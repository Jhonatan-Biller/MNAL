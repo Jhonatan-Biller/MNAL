{
 "cells": [
  {
   "cell_type": "markdown",
   "id": "f92b3a64-5d79-42cc-89fa-7a7b14cc9446",
   "metadata": {},
   "source": [
    "<h3>\n",
    "    <b>\n",
    "        <font color='#660000'>\n",
    "            Interpolação\n",
    "        </font>\n",
    "    </b>\n",
    "</h3>\n",
    "\n"
   ]
  },
  {
   "cell_type": "code",
   "execution_count": 1,
   "id": "1c90eb09-83ef-446c-8ead-4fce2f8967b4",
   "metadata": {},
   "outputs": [],
   "source": [
    "import sys\n",
    "from pathlib import Path\n",
    "sys.path.append( Path.cwd())"
   ]
  },
  {
   "cell_type": "markdown",
   "id": "18e076e7-3cef-41bf-a5be-acd287ec3d26",
   "metadata": {},
   "source": [
    "<h4>\n",
    "    <b>\n",
    "        1. Matriz de Vandermonde\n",
    "    </b>\n",
    "</h4>\n",
    "\n",
    "Matriz de Vandermonde é uma matriz onde cada linha é composta por potências consecutivas de um conjunto de valores distintos. Seja $x=[x_1,x_2,\\dots,x_n]$, a matriz de Vandermonde $V \\in \\mathbb{R}^{n \\times n}$ é dada por:\n",
    "$$ V_{i,j}=x_i^j.$$\n",
    "\n",
    "Dado um vetor $x \\in \\mathbb{R}^{1\\times n}$, a função a seguir retorna $V$."
   ]
  },
  {
   "cell_type": "code",
   "execution_count": 2,
   "id": "16f7ad30-fe6c-4061-80a0-ae9ad00895d3",
   "metadata": {},
   "outputs": [],
   "source": [
    "import numpy   as np\n",
    "\n",
    "def vander(v):\n",
    "    n = len(v)\n",
    "    V = np.zeros((n,n))\n",
    "\n",
    "    for i in range(0,n):\n",
    "        k = 0\n",
    "        \n",
    "        for j in range(0,n):\n",
    "            V[i,j] = np.power(v[i], k)\n",
    "            k += 1\n",
    "            \n",
    "    return V"
   ]
  },
  {
   "cell_type": "markdown",
   "id": "3d8a4e23-690c-4d80-b8fd-0aa709446c99",
   "metadata": {},
   "source": [
    "<h4>\n",
    "    <b>\n",
    "        2. Interpolação\n",
    "    </b>\n",
    "</h4>\n",
    "\n",
    "Sejam $(x_i,y_i) \\in I \\subset \\mathbb{R}$ tais que $f(x_i)=y_i$. Existe um único polinômio $p(x)$ de grau $n-1$ tal que $p(x_i)=y_i$. "
   ]
  },
  {
   "cell_type": "code",
   "execution_count": 3,
   "id": "387c9f92-c9cc-430c-8da2-0cc4d8ef2927",
   "metadata": {},
   "outputs": [],
   "source": [
    "import numpy   as np\n",
    "import metodos as mtd\n",
    "\n",
    "def interp(x,y):\n",
    "\n",
    "    V    = vander(x)\n",
    "    L, U = mtd.lu(V)\n",
    "\n",
    "    yl  = mtd.subs_dir(np.column_stack((L, y)))  # Ly' = y\n",
    "    xl  = mtd.subs_reg(np.column_stack((U, yl))) # Ux' = x \n",
    "\n",
    "    return xl"
   ]
  },
  {
   "cell_type": "markdown",
   "id": "69abe443-f9e3-45fe-9458-f7d75a6b03c2",
   "metadata": {},
   "source": [
    "Exemplo"
   ]
  },
  {
   "cell_type": "code",
   "execution_count": 4,
   "id": "4a074e1b-4626-4f03-bd5b-edf5a1360638",
   "metadata": {},
   "outputs": [
    {
     "name": "stdout",
     "output_type": "stream",
     "text": [
      "Coeficientes do polinômio interpolador: [0. 0. 1. 0.]\n"
     ]
    }
   ],
   "source": [
    "xp = np.array([1, 2, 3, 4])\n",
    "yp = np.array([1, 4, 9, 16])\n",
    "\n",
    "coeficientes = interp(xp, yp)\n",
    "print(\"Coeficientes do polinômio interpolador:\", coeficientes)"
   ]
  }
 ],
 "metadata": {
  "kernelspec": {
   "display_name": "Python 3 (ipykernel)",
   "language": "python",
   "name": "python3"
  },
  "language_info": {
   "codemirror_mode": {
    "name": "ipython",
    "version": 3
   },
   "file_extension": ".py",
   "mimetype": "text/x-python",
   "name": "python",
   "nbconvert_exporter": "python",
   "pygments_lexer": "ipython3",
   "version": "3.10.12"
  }
 },
 "nbformat": 4,
 "nbformat_minor": 5
}
