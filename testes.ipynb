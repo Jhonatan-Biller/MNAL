{
 "cells": [
  {
   "cell_type": "code",
   "execution_count": 1,
   "id": "4ec0bb6f-c0aa-42bd-99ff-4239d1019d30",
   "metadata": {},
   "outputs": [
    {
     "name": "stdout",
     "output_type": "stream",
     "text": [
      "(10000, 10001)\n"
     ]
    }
   ],
   "source": [
    "import numpy as np \n",
    "\n",
    "# --- Definições iniciais\n",
    "\n",
    "# Definições do domínio\n",
    "a = 0; b = 10; h = 1/1000\n",
    "\n",
    "# Definições da Equação Diferencial\n",
    "c = 0.0001; d = 10000; u0 = 0; un = np.cos(b)\n",
    "\n",
    "# Definindo o termo fonte:\n",
    "def f(x):\n",
    "    return x**2\n",
    "\n",
    "# --- Inicio do algoritmo\n",
    "\n",
    "# Criando vetor com os pontos de malha\n",
    "vx = np.arange(a,b,h)\n",
    "#vx = np.append(vx,b)\n",
    "\n",
    "# Calculando constantes\n",
    "A =  1/np.square(h) - c/(2*h)\n",
    "B = -2/np.square(h) + d\n",
    "C =  1/np.square(h) + c/(2*h)\n",
    "\n",
    "# Criando matriz de diferenças D\n",
    "m = len(vx); n = m + 1\n",
    "D = np.zeros((m,n))\n",
    "\n",
    "# Construindo a primeira linha da matriz\n",
    "D[0, 0] = B\n",
    "D[0, 1] = C\n",
    "D[0,-1] = f(a) - u0 * A\n",
    "\n",
    "# Construindo linhas intermediárias\n",
    "for i in range(1,m-1):\n",
    "\n",
    "    D[i,i-1:i+2] = np.array([A,B,C])\n",
    "    D[i,-1]      = f(vx[i])\n",
    "\n",
    "# Construindo última linha\n",
    "D[m-1,-3] = A\n",
    "D[m-1,-2] = B\n",
    "D[m-1,-1] = f(b) - un * C\n",
    "\n",
    "print(D.shape)"
   ]
  },
  {
   "cell_type": "code",
   "execution_count": null,
   "id": "5ea5503e-88ce-4c6b-800c-4c637d763a36",
   "metadata": {},
   "outputs": [],
   "source": [
    "Dinv = np.linalg.inv(D[:,:-1])"
   ]
  }
 ],
 "metadata": {
  "kernelspec": {
   "display_name": "Python 3 (ipykernel)",
   "language": "python",
   "name": "python3"
  },
  "language_info": {
   "codemirror_mode": {
    "name": "ipython",
    "version": 3
   },
   "file_extension": ".py",
   "mimetype": "text/x-python",
   "name": "python",
   "nbconvert_exporter": "python",
   "pygments_lexer": "ipython3",
   "version": "3.10.12"
  }
 },
 "nbformat": 4,
 "nbformat_minor": 5
}
