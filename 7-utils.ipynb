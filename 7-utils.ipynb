{
 "cells": [
  {
   "cell_type": "markdown",
   "id": "9c6e45d7-844f-4f4f-8744-b056008f6049",
   "metadata": {},
   "source": [
    "<h4>\n",
    "    <b>\n",
    "        Formatação em notação científica\n",
    "    </b>\n",
    "</h4>"
   ]
  },
  {
   "cell_type": "code",
   "execution_count": 1,
   "id": "4da22935-1a79-4a16-8ac0-fcf4d36fbc73",
   "metadata": {},
   "outputs": [
    {
     "name": "stdout",
     "output_type": "stream",
     "text": [
      "1e+05\n"
     ]
    }
   ],
   "source": [
    "num = 123456\n",
    "\n",
    "sci_format = f\"{num:.0e}\"\n",
    "print(sci_format)"
   ]
  },
  {
   "cell_type": "markdown",
   "id": "0e3184d5-f24a-4373-86f5-e3bc0b87c403",
   "metadata": {},
   "source": [
    "<h4>\n",
    "    <b>\n",
    "        Tempo computacional\n",
    "    </b>\n",
    "</h4>"
   ]
  },
  {
   "cell_type": "code",
   "execution_count": 2,
   "id": "54d5038f-a588-4e13-9b92-ef0d8e2e65d6",
   "metadata": {},
   "outputs": [
    {
     "name": "stdout",
     "output_type": "stream",
     "text": [
      "Tempo de execução: 0.000086 segundos\n"
     ]
    }
   ],
   "source": [
    "import time\n",
    "\n",
    "# Tempo inicial\n",
    "start_time = time.time()\n",
    "\n",
    "# Código a ser medido ...\n",
    "\n",
    "\n",
    "# Tempo final\n",
    "end_time = time.time()\n",
    "\n",
    "# Calcula o tempo de execução\n",
    "execution_time = end_time - start_time\n",
    "print(f\"Tempo de execução: {execution_time:.6f} segundos\")\n"
   ]
  }
 ],
 "metadata": {
  "kernelspec": {
   "display_name": "Python 3 (ipykernel)",
   "language": "python",
   "name": "python3"
  },
  "language_info": {
   "codemirror_mode": {
    "name": "ipython",
    "version": 3
   },
   "file_extension": ".py",
   "mimetype": "text/x-python",
   "name": "python",
   "nbconvert_exporter": "python",
   "pygments_lexer": "ipython3",
   "version": "3.10.12"
  }
 },
 "nbformat": 4,
 "nbformat_minor": 5
}
