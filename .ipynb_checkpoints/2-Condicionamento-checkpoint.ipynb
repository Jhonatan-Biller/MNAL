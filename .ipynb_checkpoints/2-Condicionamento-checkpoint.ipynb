{
 "cells": [
  {
   "cell_type": "markdown",
   "id": "83b59edd-5a38-4907-b706-1f275e7a6ce5",
   "metadata": {},
   "source": [
    "<h3>\n",
    "    <b>\n",
    "        <font color='#660000'>\n",
    "            Normas Matriciais e condicionamento\n",
    "        </font>\n",
    "    </b>\n",
    "</h3>\n"
   ]
  },
  {
   "cell_type": "code",
   "execution_count": 1,
   "id": "fffa7f40-29c2-4770-b902-ddb5ba128473",
   "metadata": {},
   "outputs": [],
   "source": [
    "import sys\n",
    "from pathlib import Path\n",
    "sys.path.append( Path.cwd())"
   ]
  },
  {
   "cell_type": "markdown",
   "id": "ada612db-533f-4f6b-9e09-f084fe64c919",
   "metadata": {},
   "source": [
    "<h4>\n",
    "    <b>\n",
    "        1. Norma Matricial\n",
    "    </b>\n",
    "</h4>\n",
    "\n",
    "A função $\\left\\| \\cdot \\right\\|: \\ \\mathbb{R}^{m \\times n} \\rightarrow \\mathbb{R}$ define uma norma matricial se $\\forall A,B \\in \\mathbb{R}^{m \\times n}$ e $\\alpha \\in \\mathbb{R}$, satisfaz:\n",
    "\n",
    "<ul>\n",
    "    <li>$\\left\\| A \\right\\| > 0, A \\neq 0$;</li>\n",
    "    <li>$\\left\\| \\lambda A \\right\\| = |\\lambda|\\left\\| A \\right\\|$;</li>\n",
    "    <li>$\\left\\| A + B \\right\\| \\leq \\left\\| A \\right\\| + \\left\\| B \\right\\|$;</li>\n",
    "    <li>$\\left\\| AB \\right\\| \\leq \\left\\| A \\right\\|\\left\\| B \\right\\|$.</li>\n",
    "</ul>\n",
    "\n",
    "<h4>\n",
    "    <b>\n",
    "        2. Norma-p\n",
    "    </b>\n",
    "</h4>\n",
    "\n",
    "A função a seguir retorna a norma-p de uma matriz para $1 \\leq p < \\infty $, a qual é definida por:\n",
    "\n",
    "$$ \\left\\| A \\right\\|_p = \\left(  \\sum_{i=1}^{m} \\sum_{j=1}^{n} |a_{ij}|^{p} \\right)^{1/p}. $$"
   ]
  },
  {
   "cell_type": "code",
   "execution_count": 2,
   "id": "5e738061-cddb-4066-9623-4db00aa95e88",
   "metadata": {},
   "outputs": [],
   "source": [
    "def normap(A,p):\n",
    "    return (np.sum(np.abs(A)**p))**(1/p)"
   ]
  },
  {
   "cell_type": "markdown",
   "id": "a077f681-e2db-4b2d-80f5-b380df84c84f",
   "metadata": {},
   "source": [
    "<h4>\n",
    "    <b>\n",
    "        3. Norma do sup\n",
    "    </b>\n",
    "</h4>\n",
    "A função a seguir retorna a norma do sup (norma do infinito ou norma do máximo) de uma matriz $A \\in R^{m \\times n}$. Essa norma é definida por:\n",
    "\n",
    "$$ \\left\\| A \\right\\|_{\\text{sup, col}} = \\underset{1 \\leq i \\leq m}{max}\\sum_{j=1}^{m}|a_{ij}|$$"
   ]
  },
  {
   "cell_type": "code",
   "execution_count": 3,
   "id": "4b35abe7-f852-4fab-a578-b783881ee59d",
   "metadata": {},
   "outputs": [],
   "source": [
    "def normasup(A):\n",
    "    return np.max(np.sum(np.abs(A), axis=1))"
   ]
  },
  {
   "cell_type": "markdown",
   "id": "1e64f60e-0d0e-491d-9187-96160543ec13",
   "metadata": {},
   "source": [
    "<h4>\n",
    "    <b>\n",
    "        4. Matriz Inversa (Via $PA=LU$)\n",
    "    </b>\n",
    "</h4>\n",
    "\n",
    "Se $A,X \\in \\mathbb{R}^{n \\times n}$ satisfazem $AX=I$, então $X$ é a inversa (denotada por $A^{-1}$) de $A$. $A^{-1}$ pode ser obtida resolvendo o sistema a seguir para $i \\in \\mathbb{N}$, $1 \\leq i \\leq n$:\n",
    "\n",
    "$$ \\left\\{\\begin{matrix}\n",
    " Ly=Pe_i\\\\\n",
    "Ux_i = y\n",
    "\\end{matrix}\\right.$$\n",
    "onde $A^{-1}=[x_1,\\dots,x_i]$."
   ]
  },
  {
   "cell_type": "code",
   "execution_count": 4,
   "id": "55414ad0-517f-4dfc-a4d0-cea87c1a65fa",
   "metadata": {},
   "outputs": [],
   "source": [
    "import numpy as np \n",
    "import metodos as mtd\n",
    "\n",
    "def inv(A):\n",
    "\n",
    "    P, L, U = mtd.palu(A)\n",
    "    n       = len(A)\n",
    "    Ainv    = np.zeros_like(A)\n",
    "    \n",
    "    for i in range(0,n):\n",
    "\n",
    "        ei    = np.zeros(n)\n",
    "        ei[i] = 1\n",
    "\n",
    "        y = mtd.subs_dir(np.column_stack((L, P @ ei)))  # Ly = P@ei\n",
    "    \n",
    "        Ainv[:, i] = mtd.subs_reg(np.column_stack((U, y))) # Ux = y\n",
    "\n",
    "    return Ainv    "
   ]
  },
  {
   "cell_type": "markdown",
   "id": "5e28028b-3dad-441a-89f3-35e76e2803b3",
   "metadata": {},
   "source": [
    "<h4>\n",
    "    <b>\n",
    "        5. Número de condicionamento\n",
    "    </b>\n",
    "</h4>\n",
    "\n",
    "Para matrizes quadradas $A$ define o número de condicionamento $\\kappa(A)$ por:\n",
    "\n",
    "$$\\kappa(A) =|| A ||  \\ || A^{-1} ||. $$\n",
    "\n",
    "Como $||A|| \\geq 1, A \\neq 0$, temos que se $\\kappa(A)$ é próximo de zero temos uma matriz bem condicionada.\n",
    "\n",
    "<b>Referência:</b> Golub, Matrix Computations."
   ]
  },
  {
   "cell_type": "markdown",
   "id": "ea741feb-111c-4d16-95b2-717405e14c84",
   "metadata": {},
   "source": [
    "<h4>\n",
    "    <b>\n",
    "        6. Matriz de Hilbert\n",
    "    </b>\n",
    "</h4>\n",
    "\n",
    "A Matriz de Hilbert é uma matriz $H \\in \\mathbb{R}^{m\\times n}$ tal que \n",
    "\n",
    "$$h_{i,j} = \\frac{1}{i+j-1}$$.\n",
    "\n",
    "A função a seguir retorna a Matriz de Hilbert com $m$ linhas e $n$ colunas."
   ]
  },
  {
   "cell_type": "code",
   "execution_count": 5,
   "id": "84fd3e30-0c68-4214-98fa-2b0118b5984a",
   "metadata": {},
   "outputs": [],
   "source": [
    "import numpy as np \n",
    "\n",
    "def hilbert(m,n):\n",
    "\n",
    "    H = np.zeros((m,n), dtype=float)\n",
    "\n",
    "    for i in range(0,m):\n",
    "\n",
    "        for j in range(0,n):\n",
    "\n",
    "            H[i,j] = 1/(i+j+1)\n",
    "            \n",
    "    return H"
   ]
  },
  {
   "cell_type": "markdown",
   "id": "0c746374-a7e6-45c5-856b-3d2be210d14b",
   "metadata": {},
   "source": [
    "<h4>\n",
    "    <b>\n",
    "        <font color='#0d1f49'>7. Exemplo</font>\n",
    "    </b>\n",
    "</h4>\n",
    "\n",
    "Calcule o número de condicionamento de $H_{10}$ utilizando a norma de Frobenius, Soma e Sup."
   ]
  },
  {
   "cell_type": "code",
   "execution_count": 6,
   "id": "2646e1a6-9113-4307-a873-8865f6d8a00e",
   "metadata": {},
   "outputs": [
    {
     "data": {
      "text/plain": [
       "array([[1.        , 0.5       , 0.33333333, 0.25      , 0.2       ,\n",
       "        0.16666667, 0.14285714, 0.125     , 0.11111111, 0.1       ],\n",
       "       [0.5       , 0.33333333, 0.25      , 0.2       , 0.16666667,\n",
       "        0.14285714, 0.125     , 0.11111111, 0.1       , 0.09090909],\n",
       "       [0.33333333, 0.25      , 0.2       , 0.16666667, 0.14285714,\n",
       "        0.125     , 0.11111111, 0.1       , 0.09090909, 0.08333333],\n",
       "       [0.25      , 0.2       , 0.16666667, 0.14285714, 0.125     ,\n",
       "        0.11111111, 0.1       , 0.09090909, 0.08333333, 0.07692308],\n",
       "       [0.2       , 0.16666667, 0.14285714, 0.125     , 0.11111111,\n",
       "        0.1       , 0.09090909, 0.08333333, 0.07692308, 0.07142857],\n",
       "       [0.16666667, 0.14285714, 0.125     , 0.11111111, 0.1       ,\n",
       "        0.09090909, 0.08333333, 0.07692308, 0.07142857, 0.06666667],\n",
       "       [0.14285714, 0.125     , 0.11111111, 0.1       , 0.09090909,\n",
       "        0.08333333, 0.07692308, 0.07142857, 0.06666667, 0.0625    ],\n",
       "       [0.125     , 0.11111111, 0.1       , 0.09090909, 0.08333333,\n",
       "        0.07692308, 0.07142857, 0.06666667, 0.0625    , 0.05882353],\n",
       "       [0.11111111, 0.1       , 0.09090909, 0.08333333, 0.07692308,\n",
       "        0.07142857, 0.06666667, 0.0625    , 0.05882353, 0.05555556],\n",
       "       [0.1       , 0.09090909, 0.08333333, 0.07692308, 0.07142857,\n",
       "        0.06666667, 0.0625    , 0.05882353, 0.05555556, 0.05263158]])"
      ]
     },
     "execution_count": 6,
     "metadata": {},
     "output_type": "execute_result"
    }
   ],
   "source": [
    "#Criando matriz de Hilbert 10x10\n",
    "H = hilbert(10,10)\n",
    "H"
   ]
  },
  {
   "cell_type": "code",
   "execution_count": 7,
   "id": "50b7d7a3-db96-44fc-8214-5bf6e719785c",
   "metadata": {},
   "outputs": [],
   "source": [
    "#Calculando a matriz inversa de H\n",
    "Hinv = inv(H)"
   ]
  },
  {
   "cell_type": "code",
   "execution_count": 8,
   "id": "56a1425e-b521-4134-9bde-b65934ccf2fa",
   "metadata": {},
   "outputs": [
    {
     "name": "stdout",
     "output_type": "stream",
     "text": [
      "Norma Frob. k(A)=1.63e+13\n",
      "Norma Soma. k(A)=5.60e+14\n",
      "Norma Supr. k(A)=3.54e+13\n"
     ]
    }
   ],
   "source": [
    "print( 'Norma Frob. k(A)={:.2e}'.format( normap(H,2) * normap(Hinv,2) ) )\n",
    "print( 'Norma Soma. k(A)={:.2e}'.format( normap(H,1) * normap(Hinv,1) ) )\n",
    "print( 'Norma Supr. k(A)={:.2e}'.format( normasup(H) * normasup(Hinv) ) )"
   ]
  },
  {
   "cell_type": "markdown",
   "id": "a993e29d-26d5-422f-a4f8-7b1c6cfb7f1c",
   "metadata": {},
   "source": [
    "<h4>\n",
    "    <b>\n",
    "        <font color='#0d1f49'>8. Exemplo</font>\n",
    "    </b>\n",
    "</h4>\n",
    "Considere o sistema linear $Ax=b$:\n",
    "\n",
    "$$  \\begin{pmatrix}\n",
    " +2 &  -1,0 & -1,0 & +0,0 \\\\\n",
    " -1 & +1,5 & +0,0 & -0,5 \\\\\n",
    " -1 & +0,0 & +1,7  & -0,2  \\\\\n",
    "+0 & -0,5  & -0,2  & +1,7  \\\\\n",
    "\\end{pmatrix} \\begin{pmatrix}\n",
    " x_1\\\\\n",
    " x_2\\\\\n",
    "x_3 \\\\\n",
    "x_4 \n",
    "\\end{pmatrix} = \\begin{pmatrix}\n",
    "0 \\\\\n",
    " 0\\\\\n",
    " 0\\\\\n",
    "3\n",
    "\\end{pmatrix}$$\n",
    " \n",
    "<b>a)</b> Ache a solução do sistema linear por qualquer método.\n",
    "\n",
    "Usando Fatoração de Cholesky:"
   ]
  },
  {
   "cell_type": "code",
   "execution_count": 14,
   "id": "9b3f5e5b-87c1-4ac3-8605-64406a1f0025",
   "metadata": {},
   "outputs": [
    {
     "name": "stdout",
     "output_type": "stream",
     "text": [
      "A é simétrica.\n"
     ]
    },
    {
     "data": {
      "text/plain": [
       "array([[ 2. , -1. , -1. ,  0. ],\n",
       "       [-1. ,  1.5,  0. , -0.5],\n",
       "       [-1. ,  0. ,  1.7, -0.2],\n",
       "       [ 0. , -0.5, -0.2,  1.7]])"
      ]
     },
     "execution_count": 14,
     "metadata": {},
     "output_type": "execute_result"
    }
   ],
   "source": [
    "import numpy as np\n",
    "\n",
    "A = np.array([[2,-1,-1,0],[-1,1.5,0,-0.5],[-1,0,1.7,-0.2],[0,-0.5,-0.2,1.7]],dtype=float)\n",
    "\n",
    "if A.all() == A.T.all(): print('A é simétrica.')\n",
    "\n",
    "G = mtd.gaxpy_cholesky(A.copy())\n",
    "\n",
    "G @ G.T"
   ]
  },
  {
   "cell_type": "code",
   "execution_count": 16,
   "id": "48f2fda7-fd12-4787-aeb8-95b42c4a1894",
   "metadata": {},
   "outputs": [
    {
     "name": "stdout",
     "output_type": "stream",
     "text": [
      "A solução está correta.\n",
      "[ 2.22044605e-16 -2.22044605e-16 -6.10622664e-16  3.00000000e+00]\n"
     ]
    }
   ],
   "source": [
    "import numpy as np\n",
    "\n",
    "b  = np.array([0,0,0,3])\n",
    "\n",
    "y  = mtd.subs_dir(np.column_stack((G, b)))   # Gy   = b\n",
    "x  = mtd.subs_reg(np.column_stack((G.T, y))) # G.Tx = y \n",
    "\n",
    "Ax = A @ x\n",
    "\n",
    "if np.allclose(Ax, b):\n",
    "    print(\"A solução está correta.\")\n",
    "else:\n",
    "    print(\"A solução está incorreta.\")\n",
    "\n",
    "print(Ax)"
   ]
  }
 ],
 "metadata": {
  "kernelspec": {
   "display_name": "Python 3 (ipykernel)",
   "language": "python",
   "name": "python3"
  },
  "language_info": {
   "codemirror_mode": {
    "name": "ipython",
    "version": 3
   },
   "file_extension": ".py",
   "mimetype": "text/x-python",
   "name": "python",
   "nbconvert_exporter": "python",
   "pygments_lexer": "ipython3",
   "version": "3.10.12"
  }
 },
 "nbformat": 4,
 "nbformat_minor": 5
}
