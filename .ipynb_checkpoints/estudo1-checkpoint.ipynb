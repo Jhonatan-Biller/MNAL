{
 "cells": [
  {
   "cell_type": "code",
   "execution_count": 88,
   "id": "69c426b2-1731-4c50-a1f4-88077943b096",
   "metadata": {},
   "outputs": [
    {
     "name": "stdout",
     "output_type": "stream",
     "text": [
      "Tempo de execução: 0.0012090206146240234 segundos\n",
      "C=\n",
      " [[1. 0. 0. 0.]\n",
      " [2. 1. 0. 0.]\n",
      " [2. 3. 1. 0.]\n",
      " [2. 3. 1. 1.]]\n",
      "A=\n",
      " [[ 1  1  1  1]\n",
      " [ 0 -1 -3 -1]\n",
      " [ 0  0  8  2]\n",
      " [ 0  0  0  5]]\n"
     ]
    }
   ],
   "source": [
    "#isso deve vir antes de todo o código\n",
    "import numpy as np \n",
    "import time\n",
    "\n",
    "ti = time.time()\n",
    "\n",
    "# Definindo uma matriz \n",
    "A = np.array([  [1,1,1,1]  , [2,1,-1,1] , [2,-1,1,1] , [2,-1,1,6] ])\n",
    "\n",
    "# Armazenamos o n. de linhas (m) e colunas (n)\n",
    "m, n = A.shape\n",
    "\n",
    "#Criando matriz identidade com mesma dimensao da A\n",
    "C = np.eye(m,n)\n",
    "\n",
    "#Exibindo a matriz A\n",
    "#print('A=\\n',A)\n",
    "\n",
    "#Vamos iniciar a implementação da eliminação de Gauss\n",
    "for k in range(0,n-1): # [0,1,2]\n",
    "\n",
    "    #Exibindo k\n",
    "    #print('k=',k)\n",
    "    \n",
    "    #Aqui mostramos o pivo atual\n",
    "    #print('O elemento pivô atual é:',A[k,k])\n",
    "\n",
    "    for i in range(k+1,m):\n",
    "\n",
    "        #print(A[i,k],' é um elemento abaixo do pivô')\n",
    "        \n",
    "        #Vamos calcular os multiplicadores\n",
    "        C[i,k] = A[i,k] / A[k,k]\n",
    "\n",
    "        for j in range(k,n):\n",
    "\n",
    "            A[i,j] = A[i,j] - C[i,k] * A[k,j]\n",
    "\n",
    "\n",
    "tf = time.time()\n",
    "\n",
    "\n",
    "tempo_execucao = tf - ti\n",
    "\n",
    "print(f'Tempo de execução: {tempo_execucao} segundos')\n",
    "\n",
    "print('C=\\n',C)\n",
    "print('A=\\n',A)"
   ]
  },
  {
   "cell_type": "code",
   "execution_count": 87,
   "id": "5d3fe738-2e88-4f89-86f5-a118d9bd421c",
   "metadata": {},
   "outputs": [
    {
     "name": "stdout",
     "output_type": "stream",
     "text": [
      "é v\n"
     ]
    }
   ],
   "source": []
  }
 ],
 "metadata": {
  "kernelspec": {
   "display_name": "Python 3 (ipykernel)",
   "language": "python",
   "name": "python3"
  },
  "language_info": {
   "codemirror_mode": {
    "name": "ipython",
    "version": 3
   },
   "file_extension": ".py",
   "mimetype": "text/x-python",
   "name": "python",
   "nbconvert_exporter": "python",
   "pygments_lexer": "ipython3",
   "version": "3.10.12"
  }
 },
 "nbformat": 4,
 "nbformat_minor": 5
}
