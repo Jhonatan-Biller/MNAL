{
 "cells": [
  {
   "cell_type": "markdown",
   "id": "5f96a002-346b-4f35-9c43-e9e267a3fb63",
   "metadata": {},
   "source": [
    "<h3>\n",
    "    <b>\n",
    "        <font color='#660000'>\n",
    "            Matriz de Diferenças\n",
    "        </font>\n",
    "    </b>\n",
    "</h3>"
   ]
  },
  {
   "cell_type": "markdown",
   "id": "f19d8dfb-2a94-4cac-b60d-a95f0d41f559",
   "metadata": {},
   "source": [
    "Seja, $\\: x,a,b,c,d \\in \\mathbb{R} \\:$, $\\: u : \\mathbb{R} \\rightarrow \\mathbb{R}$, $\\: f : \\mathbb{R} \\rightarrow \\mathbb{R}$. A discretização da equação diferencial $ u''(x)+cu'(x)+du(x)=f(x)$ é dada por:\n",
    "\n",
    "$$ \\frac{u(x_{i+1})-2u(x_i)+u(x_{i-1})}{h^2} + \\frac{c \\left( u(x_{i+1})-u(x_{i-1})\\right )}{2h} + du(x_i)=f(x_i).$$\n",
    "\n",
    "Ponha $x \\in [a,b]$, $u(a)=u_0$ e $u(b)=u_n$. Considere $P$ uma partição uniforme de $[a,b]$ tal que $|P|=n$. O algoritmo a seguir, retorna a matriz $\\left[ \\: A \\: | \\: b \\: \\right]$ associada ao sistema de $n$ equações para $i=1,2,\\dots,n$, onde $A$ é a matriz dos coeficientes e $b$ é o vetor de termos independentes."
   ]
  },
  {
   "cell_type": "code",
   "execution_count": 1,
   "id": "c6329e17-089f-4af0-b51c-77c5c580268d",
   "metadata": {},
   "outputs": [
    {
     "name": "stdout",
     "output_type": "stream",
     "text": [
      "[[ -70.   39.    0.    0.    0.    0.    0.  -32.]\n",
      " [  33.  -70.   39.    0.    0.    0.    0.    1.]\n",
      " [   0.   33.  -70.   39.    0.    0.    0.    1.]\n",
      " [   0.    0.   33.  -70.   39.    0.    0.    1.]\n",
      " [   0.    0.    0.   33.  -70.   39.    0.    1.]\n",
      " [   0.    0.    0.    0.   33.  -70.   39.    1.]\n",
      " [   0.    0.    0.    0.    0.   33.  -70. -116.]]\n"
     ]
    }
   ],
   "source": [
    "import numpy as np \n",
    "\n",
    "# --- Definições iniciais\n",
    "\n",
    "# Definições do domínio\n",
    "a = 0; b = 1; n = 7\n",
    "\n",
    "# Definições da Equação Diferencial\n",
    "c = 1; d = 2; u0 = 1; un = 3\n",
    "\n",
    "# Definindo o termo fonte:\n",
    "def f(x):\n",
    "    return 1\n",
    "\n",
    "# --- Inicio do algoritmo\n",
    "\n",
    "# Criando vetor com os pontos de malha\n",
    "vx, h = np.linspace(a, b, n, dtype=float, retstep=True)\n",
    "\n",
    "# Calculando constantes\n",
    "A =  1/np.square(h) - c/(2*h)\n",
    "B = -2/np.square(h) + d\n",
    "C =  1/np.square(h) + c/(2*h)\n",
    "\n",
    "# Criando matriz de diferenças D\n",
    "m = len(vx); n = m + 1\n",
    "D = np.zeros((m,n))\n",
    "\n",
    "# Construindo a primeira linha da matriz\n",
    "D[0, 0] = B\n",
    "D[0, 1] = C\n",
    "D[0,-1] = f(a) - u0 * A\n",
    "\n",
    "# Construindo linhas intermediárias\n",
    "for i in range(1,m-1):\n",
    "\n",
    "    D[i,i-1:i+2] = np.array([A,B,C])\n",
    "    D[i,-1]      = f(vx[i])\n",
    "\n",
    "# Construindo última linha\n",
    "D[m-1,-3] = A\n",
    "D[m-1,-2] = B\n",
    "D[m-1,-1] = f(b) - un * C\n",
    "\n",
    "print(D)"
   ]
  }
 ],
 "metadata": {
  "kernelspec": {
   "display_name": "Python 3 (ipykernel)",
   "language": "python",
   "name": "python3"
  },
  "language_info": {
   "codemirror_mode": {
    "name": "ipython",
    "version": 3
   },
   "file_extension": ".py",
   "mimetype": "text/x-python",
   "name": "python",
   "nbconvert_exporter": "python",
   "pygments_lexer": "ipython3",
   "version": "3.10.12"
  }
 },
 "nbformat": 4,
 "nbformat_minor": 5
}
