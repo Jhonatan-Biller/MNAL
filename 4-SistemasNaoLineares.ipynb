{
 "cells": [
  {
   "cell_type": "markdown",
   "id": "2c6ca7c3-674e-468d-ac75-608bf445bc81",
   "metadata": {},
   "source": [
    "<h3>\n",
    "    <b>\n",
    "        <font color='#660000'>\n",
    "            Sistemas não lineares\n",
    "        </font>\n",
    "    </b>\n",
    "</h3>\n",
    "\n",
    "<h4>\n",
    "    <b>\n",
    "        1. Matriz Jacobiana simbólica\n",
    "    </b>\n",
    "</h4>\n"
   ]
  },
  {
   "cell_type": "markdown",
   "id": "60cfba79-ef92-4556-b4cf-52b2873d5661",
   "metadata": {},
   "source": [
    "<b>1.1</b> Exemplo de matriz Jacobiana utilizando o SymPy."
   ]
  },
  {
   "cell_type": "code",
   "execution_count": 1,
   "id": "a5807a84-83e5-44d6-a9ae-0f68944f1f2e",
   "metadata": {},
   "outputs": [
    {
     "data": {
      "text/latex": [
       "$\\displaystyle \\left[\\begin{matrix}2 x & 2 y\\\\y & x\\end{matrix}\\right]$"
      ],
      "text/plain": [
       "Matrix([\n",
       "[2*x, 2*y],\n",
       "[  y,   x]])"
      ]
     },
     "execution_count": 1,
     "metadata": {},
     "output_type": "execute_result"
    }
   ],
   "source": [
    "import sympy as sp\n",
    "import numpy as np\n",
    "\n",
    "x, y = sp.symbols('x y')\n",
    "\n",
    "f1 = x**2 + y**2 - 1\n",
    "f2 = x * y - 0.5\n",
    "\n",
    "F = sp.Matrix([f1, f2])\n",
    "\n",
    "J = F.jacobian([x, y])\n",
    "\n",
    "J"
   ]
  },
  {
   "cell_type": "markdown",
   "id": "889679ee-a2c2-4e73-a394-839169507556",
   "metadata": {},
   "source": [
    "<b>1.2</b> Avaliando a matriz Jacobiana J em um ponto."
   ]
  },
  {
   "cell_type": "code",
   "execution_count": 2,
   "id": "59ed9cc8-dd3a-4016-9923-3d74c6f61fc9",
   "metadata": {},
   "outputs": [
    {
     "data": {
      "text/latex": [
       "$\\displaystyle \\left[\\begin{matrix}2 & 1.0\\\\0.5 & 1\\end{matrix}\\right]$"
      ],
      "text/plain": [
       "Matrix([\n",
       "[  2, 1.0],\n",
       "[0.5,   1]])"
      ]
     },
     "execution_count": 2,
     "metadata": {},
     "output_type": "execute_result"
    }
   ],
   "source": [
    "J_evaluated = J.subs({x: 1, y: 0.5})\n",
    "J_evaluated"
   ]
  },
  {
   "cell_type": "markdown",
   "id": "4ab13f7e-de0c-41c3-a252-19f19c955537",
   "metadata": {},
   "source": [
    "<b>1.3</b> Transformando a matriz anterior (em SymPy, avaliada num ponto) para um Numpy Array."
   ]
  },
  {
   "cell_type": "code",
   "execution_count": 3,
   "id": "0d699ae1-df63-41c7-8cc4-296da923c18b",
   "metadata": {},
   "outputs": [
    {
     "data": {
      "text/plain": [
       "array([[2. , 1. ],\n",
       "       [0.5, 1. ]])"
      ]
     },
     "execution_count": 3,
     "metadata": {},
     "output_type": "execute_result"
    }
   ],
   "source": [
    "J_numpy = np.array(J_evaluated.evalf(), dtype=float)\n",
    "J_numpy"
   ]
  },
  {
   "cell_type": "markdown",
   "id": "b4a7b7c7-a90a-437a-ad01-8aeab348229a",
   "metadata": {},
   "source": [
    "<h4>\n",
    "    <b>\n",
    "        2. Método (explícito) de Newton para sistemas não lineares (Declarando $J_F$ manualmente)\n",
    "    </b>\n",
    "</h4>\n"
   ]
  },
  {
   "cell_type": "markdown",
   "id": "8f7a5d42-ad35-46af-b4d5-6546d4942974",
   "metadata": {},
   "source": [
    "Seja $F:\\mathbb{R}\\rightarrow \\mathbb{R}$ um sistema de $n$ funções não lineares definidas por $F(x)=[f_1(x),f_2(x),\\dots,f_n(x)]^T$, onde $x\\in \\mathbb{R}$ é um vetor de variáveis. Suponha que $F$ é diferenciável em um domínio aberto contendo uma aproximação inicial $x^{(0)}$ tal que a matriz Jacobiana $J_F(x)$ é invertível em cada ponto da sequência gerada pelo método. O método de Newton fornece uma sequência ${x(k)}$ definida por:"
   ]
  },
  {
   "cell_type": "code",
   "execution_count": 14,
   "id": "6c229438-38f5-4675-8b6d-3c4eb6993df5",
   "metadata": {},
   "outputs": [],
   "source": [
    "import numpy as np\n",
    "\n",
    "def newton_exp_j_man(F, J, x0, tol=1e-8, max_iter=100):\n",
    "    x = x0  # Chute inicial\n",
    "    \n",
    "    for i in range(max_iter):\n",
    "        # Avalia F(x) no ponto atual x\n",
    "        Fx = F(x)\n",
    "        \n",
    "        # Avalia a Jacobiana J(x) no ponto atual x\n",
    "        Jx = J(x)\n",
    "        \n",
    "        # Resolve o sistema linear J(x) * delta_x = -F(x) para encontrar delta_x\n",
    "        delta_x = np.linalg.solve(Jx, -Fx)\n",
    "        \n",
    "        # Atualiza o valor de x\n",
    "        x_next = x + delta_x  # Calcule o próximo ponto\n",
    "        \n",
    "        # Verifica o critério de parada usando a mudança relativa\n",
    "        if np.linalg.norm(x_next - x) / np.linalg.norm(x_next) < tol:\n",
    "            print(f\"Convergiu em {i+1} iterações.\")\n",
    "            return x_next  # Retorna a solução se o critério de convergência for satisfeito\n",
    "        \n",
    "        x = x_next  # Atualiza x para a próxima iteração\n",
    "    \n",
    "    # Caso o loop termine sem convergência, imprime uma mensagem de aviso\n",
    "    print(\"Não convergiu dentro do número máximo de iterações.\")\n",
    "    return x  # Retorna a última aproximação encontrada"
   ]
  },
  {
   "cell_type": "markdown",
   "id": "b2548236-adb1-43e2-950d-2cb06df5f73e",
   "metadata": {},
   "source": [
    "Exemplo de uso:"
   ]
  },
  {
   "cell_type": "code",
   "execution_count": 15,
   "id": "025ff0f3-8d74-498c-a23d-2ae92d6769a4",
   "metadata": {},
   "outputs": [
    {
     "name": "stdout",
     "output_type": "stream",
     "text": [
      "Convergiu em 5 iterações.\n",
      "Solução aproximada: [1.93185165 0.51763809]\n"
     ]
    }
   ],
   "source": [
    "def F(x):\n",
    "    \n",
    "    return np.array([\n",
    "        x[0]**2 + x[1]**2 - 4,\n",
    "        x[0] * x[1] - 1\n",
    "    ])\n",
    "\n",
    "def J(x):\n",
    "    \n",
    "    return np.array([\n",
    "        [2*x[0], 2*x[1]],\n",
    "        [x[1], x[0]]\n",
    "    ])\n",
    "\n",
    "x0 = np.array([2.0, 1.0])\n",
    "\n",
    "sol = newton_exp_j_man(F, J, x0)\n",
    "print(\"Solução aproximada:\", sol)"
   ]
  },
  {
   "cell_type": "markdown",
   "id": "f01b113e-fd99-44de-9667-4f83260ce0f3",
   "metadata": {},
   "source": [
    "<h4>\n",
    "    <b>\n",
    "        3. Método (implícito) de Newton para sistemas não lineares (Calculando $J_F$ via SymPy)\n",
    "    </b>\n",
    "</h4>"
   ]
  },
  {
   "cell_type": "markdown",
   "id": "078bbd0d-3df0-41b4-a94a-26d42e78b6f8",
   "metadata": {},
   "source": [
    "Seja $F:\\mathbb{R}\\rightarrow \\mathbb{R}$ um sistema de $n$ funções não lineares definidas por $F(x)=[f_1(x),f_2(x),\\dots,f_n(x)]^T$, onde $x\\in \\mathbb{R}$ é um vetor de variáveis. Suponha que $F$ é diferenciável em um domínio aberto contendo uma aproximação inicial $x^{(0)}$ tal que a matriz Jacobiana $J_F(x)$ é invertível em cada ponto da sequência gerada pelo método. O método de Newton fornece uma sequência ${x(k)}$ definida por:\n",
    "\n",
    "$$ x_{k+1} = x_k - J(x_k)^{-1}\\cdot F(x_k)$$"
   ]
  },
  {
   "cell_type": "code",
   "execution_count": 23,
   "id": "e357883e-d54e-4136-8303-ff879d4d15d6",
   "metadata": {},
   "outputs": [
    {
     "name": "stdout",
     "output_type": "stream",
     "text": [
      "Convergiu em 5 iterações.\n",
      "Solução aproximada: [1.93185165 0.51763809]\n"
     ]
    }
   ],
   "source": [
    "import numpy as np\n",
    "import sympy as sp\n",
    "\n",
    "# Define as variáveis simbólicas\n",
    "x, y = sp.symbols('x y')\n",
    "\n",
    "# Define as funções do sistema\n",
    "f1 = x**2 + y**2 - 4\n",
    "f2 = x * y - 1\n",
    "\n",
    "# Define o vetor de funções\n",
    "F = sp.Matrix([f1, f2])\n",
    "\n",
    "# Calcula a Jacobiana\n",
    "J = F.jacobian([x, y])\n",
    "\n",
    "# Ponto inicial\n",
    "xi = np.array([2.0, 1.0])\n",
    "\n",
    "tol = 1e-8\n",
    "max_iter = 100\n",
    "\n",
    "for i in range(max_iter):\n",
    "    # Avalia F(x) no ponto atual xi\n",
    "    Fx = np.array([f.subs({x: xi[0], y: xi[1]}).evalf() for f in F], dtype=float)\n",
    "    \n",
    "    # Avalia J(x) no ponto atual xi\n",
    "    Jx = np.array(J.subs({x: xi[0], y: xi[1]}).evalf(), dtype=float)\n",
    "        \n",
    "    # Resolve o sistema linear J(x) * Δx = -F(x)\n",
    "    delta_x = np.linalg.solve(Jx, -Fx)\n",
    "    \n",
    "    xi = xi + delta_x\n",
    "        \n",
    "    # Critério de parada\n",
    "    if np.linalg.norm(delta_x) < tol:\n",
    "        print(f\"Convergiu em {i+1} iterações.\")\n",
    "        break\n",
    "else:\n",
    "    print(\"Não convergiu dentro do número máximo de iterações.\")\n",
    "\n",
    "print(\"Solução aproximada:\", xi)"
   ]
  },
  {
   "cell_type": "markdown",
   "id": "c4c4c277-2026-49ac-84b8-1fe1194a8b71",
   "metadata": {},
   "source": [
    "<h4>\n",
    "    <b>\n",
    "        4. Método (Explícito) de Newton para sistemas não lineares (Calculando $J_F$ via SymPy)\n",
    "    </b>\n",
    "</h4>"
   ]
  },
  {
   "cell_type": "code",
   "execution_count": 24,
   "id": "385a575c-ec0d-49b2-b5bf-c4879cbd094c",
   "metadata": {},
   "outputs": [
    {
     "name": "stdout",
     "output_type": "stream",
     "text": [
      "Convergiu em 5 iterações.\n",
      "Solução aproximada: [1.93185165 0.51763809]\n"
     ]
    }
   ],
   "source": [
    "import numpy as np\n",
    "import sympy as sp\n",
    "\n",
    "# Define as variáveis simbólicas\n",
    "x, y = sp.symbols('x y')\n",
    "\n",
    "# Define as funções do sistema\n",
    "f1 = x**2 + y**2 - 4\n",
    "f2 = x * y - 1\n",
    "\n",
    "# Define o vetor de funções\n",
    "F = sp.Matrix([f1, f2])\n",
    "\n",
    "# Calcula a Jacobiana\n",
    "J = F.jacobian([x, y])\n",
    "\n",
    "# Ponto inicial\n",
    "xi = np.array([2.0, 1.0])\n",
    "\n",
    "tol = 1e-8\n",
    "max_iter = 100\n",
    "\n",
    "for i in range(max_iter):\n",
    "    # Avalia F(x) no ponto atual xi\n",
    "    Fx = np.array([f.subs({x: xi[0], y: xi[1]}).evalf() for f in F], dtype=float)\n",
    "    \n",
    "    # Avalia J(x) no ponto atual xi\n",
    "    Jx = np.array(J.subs({x: xi[0], y: xi[1]}).evalf(), dtype=float)\n",
    "    \n",
    "    # Resolve o sistema linear J(x) * delta_x = -F(x)\n",
    "    delta_x = -np.linalg.inv(Jx) @ Fx\n",
    "    \n",
    "    # Atualiza o ponto\n",
    "    xi_next = xi + delta_x\n",
    "    \n",
    "    # Critério de parada\n",
    "    # Verifica a condição ||x_{k+1} - x_k|| / ||x_{k+1}|| < tol\n",
    "    if np.linalg.norm(xi_next - xi) / np.linalg.norm(xi_next) < tol:\n",
    "        print(f\"Convergiu em {i+1} iterações.\")\n",
    "        break\n",
    "    \n",
    "    xi = xi_next  # Atualiza xi para a próxima iteração\n",
    "else:\n",
    "    print(\"Não convergiu dentro do número máximo de iterações.\")\n",
    "\n",
    "print(\"Solução aproximada:\", xi)\n"
   ]
  }
 ],
 "metadata": {
  "kernelspec": {
   "display_name": "Python 3 (ipykernel)",
   "language": "python",
   "name": "python3"
  },
  "language_info": {
   "codemirror_mode": {
    "name": "ipython",
    "version": 3
   },
   "file_extension": ".py",
   "mimetype": "text/x-python",
   "name": "python",
   "nbconvert_exporter": "python",
   "pygments_lexer": "ipython3",
   "version": "3.10.12"
  }
 },
 "nbformat": 4,
 "nbformat_minor": 5
}
