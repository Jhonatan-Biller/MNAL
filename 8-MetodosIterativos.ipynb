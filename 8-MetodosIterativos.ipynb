{
 "cells": [
  {
   "cell_type": "markdown",
   "id": "e65ef6e9-22d0-435b-a7e0-9671b30b885b",
   "metadata": {},
   "source": [
    "<h3>\n",
    "    <b>\n",
    "        <font color='#660000'>\n",
    "            Métodos Iterativos para Sistemas Lineares\n",
    "        </font>\n",
    "    </b>\n",
    "</h3>\n",
    "<b>Livro:</b><i> Álgebra Linear e suas Aplicações: Notas de Aula</i>, Petronio Pulino. \n",
    "<h4>\n",
    "    <b>\n",
    "        1. Iteração de Ponto Fixo. \n",
    "    </b>\n",
    "</h4>\n",
    "    \n",
    "\n",
    "<br>\n",
    "    Seja $A \\in \\mathbb{R}^{n \\times n}$ uma matriz invertível e $b \\in \\mathbb{R}^n$. Considere o Sistema Linear: encontrar $x^{*} \\in \\mathbb{R}^n$ solução da equação $Ax=b$. Como $A$ é invertível, o sistema linear $Ax=b$ possui única solução, que vamos denotar por $x^* = A^{-1}b$. Podemos escrever o sistema linear em uma forma equivalente \n",
    "    $$x=Px+d. $$\n",
    "Desse modo, um método iterativo consiste em considerar uma aproximação inicial $x^{(0)} \\in \\mathbb{R}^n$, para a solução $x^*$ e construir uma sequência \n",
    "$$x^{(k+1)}=Px^{(k)}+d \\quad \\text{para} \\quad k=0,1,2,\\dots. $$"
   ]
  },
  {
   "cell_type": "markdown",
   "id": "c75e8c62-303f-498d-bb6b-3de41f55598f",
   "metadata": {},
   "source": [
    "<h4>\n",
    "    <b>\n",
    "        2. Matriz Estritamente Diagonalmente Dominante por Linhas\n",
    "    </b>\n",
    "</h4>\n",
    "<b>Definição:</b> Dizemos que $A = [a_{ij}] \\in \\mathbb{R}^{n\\times n}$ é uma matriz <b>Estritamente Diagonalmente Dominante por Linhas</b> se\n",
    "\n",
    "$$ |a_{ij}| > \\sum_{j=1,\\ j \\neq i} |a_{ij}|\\ ;\\ i=1,\\dots,n.$$"
   ]
  },
  {
   "cell_type": "markdown",
   "id": "645e4b3c-4bcb-4b6e-8792-689ed9cd61ae",
   "metadata": {},
   "source": [
    "A função a seguir verifica se uma matriz é Estritamente Diagonalmente Dominante por Linhas, retornando <b>True</b> se a é, e retornando <b>False</b> caso contrário."
   ]
  },
  {
   "cell_type": "code",
   "execution_count": 1,
   "id": "60240453-2157-4ce2-84aa-e460269e0bae",
   "metadata": {},
   "outputs": [],
   "source": [
    "import numpy as np\n",
    "\n",
    "def diag_dominante(A):\n",
    "\n",
    "    n = A.shape[0]\n",
    "    \n",
    "    for i in range(n):\n",
    "    \n",
    "        row_soma = np.soma(np.abs(A[i, :])) - np.abs(A[i, i])\n",
    "        \n",
    "        if np.abs(A[i, i]) <= row_soma:\n",
    "            return False\n",
    "            \n",
    "    return True"
   ]
  },
  {
   "cell_type": "markdown",
   "id": "83f3fc12-ffb5-4cd8-952f-daf3fa7929f7",
   "metadata": {},
   "source": [
    "<h4>\n",
    "    <b>\n",
    "        3. Fatoração de Cholesky (Via NumPy)\n",
    "    </b>\n",
    "</h4>"
   ]
  },
  {
   "cell_type": "markdown",
   "id": "754d9b2b-30ed-4b3a-b32b-e8d060ba8706",
   "metadata": {},
   "source": [
    "A função a seguir retorna True se existe fatoração de Cholesky de uma matriz $A$ e retorna False caso contrário."
   ]
  },
  {
   "cell_type": "code",
   "execution_count": 24,
   "id": "906e1646-ea17-45db-a775-48ebde1956a8",
   "metadata": {},
   "outputs": [],
   "source": [
    "import numpy as np\n",
    "\n",
    "def verifica_cholesky(A):\n",
    "    try:                         # Tenta calcular a fatoração de Cholesky\n",
    "        np.linalg.cholesky(A)\n",
    "        return True              # Sucesso: a matriz admite Cholesky\n",
    "    except np.linalg.LinAlgError:\n",
    "        return False             # Erro: a matriz não admite Cholesky"
   ]
  },
  {
   "cell_type": "markdown",
   "id": "0c097773-8ff0-46a4-96a5-7d5279432635",
   "metadata": {},
   "source": [
    "<h4>\n",
    "    <b>\n",
    "        4. Método de Jacobi\n",
    "    </b>\n",
    "</h4>"
   ]
  },
  {
   "cell_type": "code",
   "execution_count": 21,
   "id": "5832acd9-e9eb-44ff-b48c-623ea59f9864",
   "metadata": {},
   "outputs": [],
   "source": [
    "import numpy as np\n",
    "\n",
    "def jacobi(A, b, x0, tol, N=1000):\n",
    "    \n",
    "    x = x0\n",
    "    \n",
    "    n = len(b)\n",
    "    \n",
    "    for k in range(N):\n",
    "        \n",
    "        x_novo = x.copy()                       # Cria uma nova aproximação baseada no estado atual.\n",
    "        \n",
    "        for i in range(n):                      # Para cada linha i.\n",
    "            soma = 0\n",
    "            for j in range(i):                  # Soma antes da diagonal.\n",
    "                soma += A[i, j] * x[j]\n",
    "            for j in range(i + 1, n):           # Soma depois da diagonal.\n",
    "                soma += A[i, j] * x[j]\n",
    "\n",
    "            x_novo[i] = (b[i] - soma) / A[i, i] # Atualiza x_i^{(k+1)}\n",
    "        \n",
    "        \n",
    "        #if np.linalg.norm(x_novo - x, ord=np.inf) < tol: # Critério de parada: Cauchy   (noma sup).\n",
    "        if np.linalg.norm(b - A @ x, ord=np.inf) < tol:   # Critério de parada: Residual (norma sup)\n",
    "            print('Convergiu em {} iterações.'.format(k+1)) \n",
    "            retuse n só vou p aula do morn x_novo, k + 1\n",
    "        \n",
    "        x = x_novo  # Atualiza a solução para a próxima iteração.\n",
    "    \n",
    "    raise ValueError(\"O método de Jacobi não convergiu dentro do número máximo de iterações.\")            "
   ]
  },
  {
   "cell_type": "markdown",
   "id": "4e0e0e71-54b8-41d1-9636-0276cd675a3c",
   "metadata": {},
   "source": [
    "<h4>\n",
    "    <b>\n",
    "        <font color='#176303'>Exercício 4.1.</font>\n",
    "    </b>\n",
    "</h4>\n",
    "Encontre uma aproximação pelo Método de Jacobi para o sistema linear\n",
    "\n",
    "$$ Ax=b \\Rightarrow \\begin{bmatrix}\n",
    " 5 & 2 & 1  & 1 \\\\\n",
    " 2 & 6 & 2 & 1 \\\\\n",
    " 1& 2 & 7 & 2 \\\\\n",
    "1 &1  &2  & 8 \\\\\n",
    "\\end{bmatrix}\\begin{bmatrix}\n",
    " x_1\\\\\n",
    " x_2\\\\\n",
    " x_3\\\\\n",
    "x_4\n",
    "\\end{bmatrix}=\\begin{bmatrix}\n",
    " 29\\\\\n",
    " 31\\\\\n",
    " 26\\\\\n",
    "19\n",
    "\\end{bmatrix} $$"
   ]
  },
  {
   "cell_type": "markdown",
   "id": "aa66b51e-b05c-4beb-95e3-fe7887e8d7e7",
   "metadata": {},
   "source": [
    "Vajamos se $A$ é Estritamente Diagonalmente Dominante:"
   ]
  },
  {
   "cell_type": "code",
   "execution_count": 3,
   "id": "fb786b60-6377-4c2e-853e-972f8dabc4bf",
   "metadata": {},
   "outputs": [
    {
     "data": {
      "text/plain": [
       "True"
      ]
     },
     "execution_count": 3,
     "metadata": {},
     "output_type": "execute_result"
    }
   ],
   "source": [
    "import numpy as np\n",
    "\n",
    "A = np.array([[5,2,1,1],[2,6,2,1],[1,2,7,2],[1,1,2,8]]) # Declarando a matriz A.\n",
    "\n",
    "diag_dominante(A) # Verificando se A é estritamente dominante."
   ]
  },
  {
   "cell_type": "markdown",
   "id": "248c61fa-3502-4d65-9d49-b0340152ebe9",
   "metadata": {},
   "source": [
    "Pelo resultado anterior (True) o Método de Jacobi converge para qualquer aproximação inicial $x^{(0)}$."
   ]
  },
  {
   "cell_type": "code",
   "execution_count": 26,
   "id": "075fd2d0-2ce4-4848-a0c6-98c574b5d52a",
   "metadata": {},
   "outputs": [
    {
     "name": "stdout",
     "output_type": "stream",
     "text": [
      "Convergiu em 4 iterações.\n"
     ]
    },
    {
     "data": {
      "text/plain": [
       "array([4, 3, 2, 1])"
      ]
     },
     "execution_count": 26,
     "metadata": {},
     "output_type": "execute_result"
    }
   ],
   "source": [
    "b  = np.array([29,31,26,19])\n",
    "x0 = np.array([1,1,1,1])\n",
    "x  = jacobi(A, b, x0, 10e-5)\n",
    "x  = x[0]\n",
    "x"
   ]
  },
  {
   "cell_type": "markdown",
   "id": "f98c5d88-1c10-41e4-801f-fcee82e389c8",
   "metadata": {},
   "source": [
    "Vejamos o resíduo:"
   ]
  },
  {
   "cell_type": "code",
   "execution_count": 23,
   "id": "9a45c05d-f50a-4992-8b3f-1f2975f0b95b",
   "metadata": {},
   "outputs": [
    {
     "data": {
      "text/plain": [
       "0.0"
      ]
     },
     "execution_count": 23,
     "metadata": {},
     "output_type": "execute_result"
    }
   ],
   "source": [
    "R = np.linalg.norm(b - A @ x, ord=np.inf)\n",
    "R"
   ]
  },
  {
   "cell_type": "markdown",
   "id": "5d33c88e-c628-4f99-826e-cb1c198b035d",
   "metadata": {},
   "source": [
    "A solução é exata."
   ]
  },
  {
   "cell_type": "markdown",
   "id": "2700b3eb-03f0-4c31-871f-941ea03df204",
   "metadata": {},
   "source": [
    "<h4>\n",
    "    <b>\n",
    "        5. Método de Gauss-Seidel\n",
    "    </b>\n",
    "</h4>"
   ]
  },
  {
   "cell_type": "code",
   "execution_count": 32,
   "id": "a5d8773c-91ca-4d12-acbc-757d8de69ff1",
   "metadata": {},
   "outputs": [],
   "source": [
    "import numpy as np\n",
    "\n",
    "def gauss_seidel(A, b, x0, tol, max_iter=100):\n",
    "   \n",
    "    n = len(b)\n",
    "    x = np.copy(x0)  \n",
    "    \n",
    "    for k in range(max_iter):\n",
    "        x_anterior = np.copy(x)\n",
    "        \n",
    "        for i in range(n):\n",
    "            \n",
    "            soma1 = sum(A[i, j] * x[j] for j in range(i)) # Soma com valores mais atualizados (j < i)\n",
    "            \n",
    "            soma2 = sum(A[i, j] * x_anterior[j] for j in range(i + 1, n)) # Soma com valores da iteração anterior (j > i)\n",
    "            \n",
    "            # Atualiza x[i] usando a fórmula de Gauss-Seidel\n",
    "            x[i] = (b[i] - soma1 - soma2) / A[i, i]\n",
    "        \n",
    "        # Verifica o critério de parada (norma infinita)\n",
    "        if np.linalg.norm(x - x_anterior, ord=np.inf) < tol:\n",
    "            print('Convergiu em {} iterações.'.format(k+1)) \n",
    "            return x, k + 1  # Retorna solução e número de iterações\n",
    "    \n",
    "    raise ValueError(\"O método não convergiu após o número máximo de iterações\")"
   ]
  },
  {
   "cell_type": "markdown",
   "id": "7edfb9a6-affc-427e-a69c-6fcd1607a546",
   "metadata": {},
   "source": [
    "<h4>\n",
    "    <b>\n",
    "        <font color='#176303'>Exercício 5.1.</font>\n",
    "    </b>\n",
    "</h4>\n",
    "Resolva o problema anterior pelo Método de Gauss-Seidel usando $\\varepsilon = 10^{-5}$. Quantas iterações foram necessárias?"
   ]
  },
  {
   "cell_type": "markdown",
   "id": "216b14b0-d58d-4662-a34c-522d74817a1b",
   "metadata": {},
   "source": [
    "Sol: Vamos verificar se $A$ é simétrica e positiva definida."
   ]
  },
  {
   "cell_type": "code",
   "execution_count": 28,
   "id": "71f35dad-a787-4c4c-8cca-d56f0c0a43e6",
   "metadata": {},
   "outputs": [
    {
     "data": {
      "text/plain": [
       "True"
      ]
     },
     "execution_count": 28,
     "metadata": {},
     "output_type": "execute_result"
    }
   ],
   "source": [
    "import numpy as np\n",
    "\n",
    "A = np.array([[5,2,1,1],[2,6,2,1],[1,2,7,2],[1,1,2,8]]) # Declarando a matriz A.\n",
    "\n",
    "verifica_cholesky(A)"
   ]
  },
  {
   "cell_type": "markdown",
   "id": "c2c9ce51-e67e-482f-83a2-1c93b02ea1d2",
   "metadata": {},
   "source": [
    "A matriz é simétrica e positiva definida. Logo, o Método de Gauss-Seidel converge para a solução independente da escolha do vetor inicial $x^{(0)}$."
   ]
  },
  {
   "cell_type": "code",
   "execution_count": 33,
   "id": "458cfc04-e1c0-47cf-b2f0-976ecaa93f7a",
   "metadata": {},
   "outputs": [
    {
     "name": "stdout",
     "output_type": "stream",
     "text": [
      "Convergiu em 3 iterações.\n"
     ]
    },
    {
     "data": {
      "text/plain": [
       "array([4, 3, 2, 1])"
      ]
     },
     "execution_count": 33,
     "metadata": {},
     "output_type": "execute_result"
    }
   ],
   "source": [
    "b  = np.array([29,31,26,19])\n",
    "x0 = np.array([1,1,1,1])\n",
    "x  = gauss_seidel(A, b, x0, 10e-5)\n",
    "x  = x[0]\n",
    "x"
   ]
  },
  {
   "cell_type": "markdown",
   "id": "fc050f76-7132-47b5-aaff-9dfa27b2b233",
   "metadata": {},
   "source": [
    "<h4>\n",
    "    <b>\n",
    "        6. Método de Sobrerrelaxação \n",
    "    </b>\n",
    "</h4>"
   ]
  },
  {
   "cell_type": "code",
   "execution_count": 63,
   "id": "1553c852-6b91-4eaf-81d1-1e6491185f6e",
   "metadata": {},
   "outputs": [],
   "source": [
    "import numpy as np\n",
    "import pandas as pd\n",
    "\n",
    "def sobrerrelaxacao(A, b, omega, num_iter=100, tol=10e-5):\n",
    "\n",
    "    n = A.shape[0]  # Tamanho da matriz\n",
    "    x = np.zeros(n)  # Vetor de soluções inicializado em zeros\n",
    "\n",
    "    # Iterações\n",
    "    for k in range(num_iter):\n",
    "        x_anterior = np.copy(x)  # Copia do vetor solução antes da iteração\n",
    "\n",
    "        for i in range(n):\n",
    "            # Primeiramente, calcula x_i(k+1) sem a contribuição de x_i\n",
    "            soma1 = 0\n",
    "            for j in range(i):\n",
    "                soma1 += A[i, j] * x[j]  # Soma dos produtos com os x_j(k+1)\n",
    "\n",
    "            soma2 = 0\n",
    "            for j in range(i + 1, n):\n",
    "                soma2 += A[i, j] * x[j]  # Soma dos produtos com os x_j(k)\n",
    "\n",
    "            # Atualiza x_i(k+1) usando a fórmula de Sobrerrelaxação\n",
    "            x[i] = omega * (b[i] - soma1 - soma2) / A[i, i] + (1 - omega) * x[i]\n",
    "\n",
    "        # Verificação de convergência: norma infinita do erro\n",
    "        erro = np.linalg.norm(x - x_anterior, np.inf)\n",
    "        if erro < tol:\n",
    "            print(f\"Convergência atingida na iteração {k + 1} com erro {erro:.6e}\")\n",
    "            return x, k + 1  # Retorna a solução e o número de iterações\n",
    "    \n",
    "    raise RuntimeError(f\"O método não convergiu após {num_iter} iterações.\")"
   ]
  },
  {
   "cell_type": "markdown",
   "id": "bc035ffa-1c20-4fa2-8628-8732cdf94ca1",
   "metadata": {},
   "source": [
    "<h4>\n",
    "    <b>\n",
    "        <font color='#176303'>Exercício 6.1.</font>\n",
    "    </b>\n",
    "</h4>\n",
    "Utilize alguns valores no Exercício  4.1  para $\\omega$ e mostre qual valor de $\\omega$ é tal que o método SOR realiza menos iterações."
   ]
  },
  {
   "cell_type": "code",
   "execution_count": 57,
   "id": "70e0ea05-e01f-4681-80f8-6f6e2f4def08",
   "metadata": {},
   "outputs": [
    {
     "name": "stdout",
     "output_type": "stream",
     "text": [
      "Convergência atingida na iteração 8 com erro 3.255367e-05\n"
     ]
    },
    {
     "data": {
      "text/plain": [
       "array([4.00000101, 2.99999919, 2.00000149, 0.9999996 ])"
      ]
     },
     "execution_count": 57,
     "metadata": {},
     "output_type": "execute_result"
    }
   ],
   "source": [
    "A     = np.array([[5,2,1,1],[2,6,2,1],[1,2,7,2],[1,1,2,8]]) # Declarando a matriz A.\n",
    "b     = np.array([29,31,26,19])\n",
    "omega = 1\n",
    "x     = sobrerrelaxacao(A, b, omega)\n",
    "x     = x[0]\n",
    "x"
   ]
  },
  {
   "cell_type": "code",
   "execution_count": 72,
   "id": "9ac3c4a6-dfa6-433a-ab7f-243e60f2eb53",
   "metadata": {},
   "outputs": [
    {
     "name": "stdout",
     "output_type": "stream",
     "text": [
      "Convergência atingida na iteração 86 com erro 9.580961e-05\n",
      "Convergência atingida na iteração 14 com erro 8.284933e-05\n",
      "Convergência atingida na iteração 10 com erro 5.684951e-05\n",
      "Convergência atingida na iteração 8 com erro 3.255367e-05\n",
      "Convergência atingida na iteração 8 com erro 8.106719e-05\n",
      "Convergência atingida na iteração 11 com erro 2.346646e-05\n",
      "Convergência atingida na iteração 21 com erro 4.905124e-05\n",
      "Convergência atingida na iteração 38 com erro 6.933642e-05\n"
     ]
    },
    {
     "data": {
      "text/html": [
       "<div>\n",
       "<style scoped>\n",
       "    .dataframe tbody tr th:only-of-type {\n",
       "        vertical-align: middle;\n",
       "    }\n",
       "\n",
       "    .dataframe tbody tr th {\n",
       "        vertical-align: top;\n",
       "    }\n",
       "\n",
       "    .dataframe thead th {\n",
       "        text-align: right;\n",
       "    }\n",
       "</style>\n",
       "<table border=\"1\" class=\"dataframe\">\n",
       "  <thead>\n",
       "    <tr style=\"text-align: right;\">\n",
       "      <th></th>\n",
       "      <th>Omega</th>\n",
       "      <th>Iterações</th>\n",
       "      <th>Resíduo</th>\n",
       "    </tr>\n",
       "  </thead>\n",
       "  <tbody>\n",
       "    <tr>\n",
       "      <th>0</th>\n",
       "      <td>0.1</td>\n",
       "      <td>86.0</td>\n",
       "      <td>0.004573733037137373</td>\n",
       "    </tr>\n",
       "    <tr>\n",
       "      <th>1</th>\n",
       "      <td>0.5</td>\n",
       "      <td>14.0</td>\n",
       "      <td>0.0005029293592002659</td>\n",
       "    </tr>\n",
       "    <tr>\n",
       "      <th>2</th>\n",
       "      <td>0.8</td>\n",
       "      <td>10.0</td>\n",
       "      <td>0.0001668107248526951</td>\n",
       "    </tr>\n",
       "    <tr>\n",
       "      <th>3</th>\n",
       "      <td>1.0</td>\n",
       "      <td>8.0</td>\n",
       "      <td>9.024179341565741e-06</td>\n",
       "    </tr>\n",
       "    <tr>\n",
       "      <th>4</th>\n",
       "      <td>1.1</td>\n",
       "      <td>8.0</td>\n",
       "      <td>0.00018121304818663475</td>\n",
       "    </tr>\n",
       "    <tr>\n",
       "      <th>5</th>\n",
       "      <td>1.2</td>\n",
       "      <td>11.0</td>\n",
       "      <td>4.386383447751996e-05</td>\n",
       "    </tr>\n",
       "    <tr>\n",
       "      <th>6</th>\n",
       "      <td>1.5</td>\n",
       "      <td>21.0</td>\n",
       "      <td>0.0001383912292602929</td>\n",
       "    </tr>\n",
       "    <tr>\n",
       "      <th>7</th>\n",
       "      <td>1.7</td>\n",
       "      <td>38.0</td>\n",
       "      <td>0.00020450955977224794</td>\n",
       "    </tr>\n",
       "    <tr>\n",
       "      <th>8</th>\n",
       "      <td>2.0</td>\n",
       "      <td>-</td>\n",
       "      <td>-</td>\n",
       "    </tr>\n",
       "  </tbody>\n",
       "</table>\n",
       "</div>"
      ],
      "text/plain": [
       "   Omega Iterações                 Resíduo\n",
       "0    0.1      86.0    0.004573733037137373\n",
       "1    0.5      14.0   0.0005029293592002659\n",
       "2    0.8      10.0   0.0001668107248526951\n",
       "3    1.0       8.0   9.024179341565741e-06\n",
       "4    1.1       8.0  0.00018121304818663475\n",
       "5    1.2      11.0   4.386383447751996e-05\n",
       "6    1.5      21.0   0.0001383912292602929\n",
       "7    1.7      38.0  0.00020450955977224794\n",
       "8    2.0         -                       -"
      ]
     },
     "execution_count": 72,
     "metadata": {},
     "output_type": "execute_result"
    }
   ],
   "source": [
    "A        = np.array([[5,2,1,1],[2,6,2,1],[1,2,7,2],[1,1,2,8]]) \n",
    "b        = np.array([29,31,26,19])\n",
    "omegas   = [0.1, 0.5, 0.8, 1, 1.1, 1.2, 1.5, 1.7, 2]\n",
    "\n",
    "solucoes  = np.array([])\n",
    "iteracoes = np.array([])\n",
    "residuo   = np.array([])\n",
    "\n",
    "for omega in omegas:\n",
    "\n",
    "    try:\n",
    "        x = sobrerrelaxacao(A, b, omega)\n",
    "        solucoes  = np.append(solucoes,  x[0])\n",
    "        iteracoes = np.append(iteracoes, x[1])    \n",
    "        residuo   = np.append(residuo,   np.linalg.norm(b - A @ x[0], ord=np.inf))\n",
    "        \n",
    "    except RuntimeError as e:\n",
    "        solucoes  = np.append(solucoes,  '-')\n",
    "        iteracoes = np.append(iteracoes, '-')\n",
    "        residuo   = np.append(residuo,   '-')\n",
    "\n",
    "df = pd.DataFrame({\n",
    "    'Omega': omegas,\n",
    "    'Iterações': iteracoes,\n",
    "    'Resíduo': residuo\n",
    "})\n",
    "\n",
    "df"
   ]
  }
 ],
 "metadata": {
  "kernelspec": {
   "display_name": "Python 3 (ipykernel)",
   "language": "python",
   "name": "python3"
  },
  "language_info": {
   "codemirror_mode": {
    "name": "ipython",
    "version": 3
   },
   "file_extension": ".py",
   "mimetype": "text/x-python",
   "name": "python",
   "nbconvert_exporter": "python",
   "pygments_lexer": "ipython3",
   "version": "3.10.12"
  }
 },
 "nbformat": 4,
 "nbformat_minor": 5
}
