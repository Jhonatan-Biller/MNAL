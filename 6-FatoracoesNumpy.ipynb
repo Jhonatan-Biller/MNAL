{
 "cells": [
  {
   "cell_type": "markdown",
   "id": "e97fb839-5ed9-46fd-b438-d73457161434",
   "metadata": {},
   "source": [
    "<h3>\n",
    "    <b>\n",
    "        <font color='#660000'>\n",
    "            Bibliotecas SciPy e NumPy alguns exemplos.\n",
    "        </font>\n",
    "    </b>\n",
    "</h3>\n",
    "\n"
   ]
  },
  {
   "cell_type": "markdown",
   "id": "76c94dbb-538a-4021-b231-c4a54320b802",
   "metadata": {},
   "source": [
    "<h4>\n",
    "    <b>\n",
    "        1. Linalg Solve\n",
    "    </b>\n",
    "</h4>"
   ]
  },
  {
   "cell_type": "code",
   "execution_count": 19,
   "id": "ee93a92a-16f6-475f-ac15-21db3d66a8ff",
   "metadata": {},
   "outputs": [
    {
     "name": "stdout",
     "output_type": "stream",
     "text": [
      "Matriz A:\n",
      "[[2. 3. 4.]\n",
      " [4. 1. 2.]\n",
      " [3. 2. 1.]]\n",
      "\n",
      "Vetor b:\n",
      "[1. 2. 3.]\n"
     ]
    }
   ],
   "source": [
    "import numpy as np\n",
    "\n",
    "A = np.array([[2, 3, 4],\n",
    "              [4, 1, 2],\n",
    "              [3, 2, 1]], dtype=float)\n",
    "\n",
    "b = np.array([1, 2, 3], dtype=float)\n",
    "\n",
    "print(\"Matriz A:\")\n",
    "print(A)\n",
    "print(\"\\nVetor b:\")\n",
    "print(b)"
   ]
  },
  {
   "cell_type": "code",
   "execution_count": 20,
   "id": "317aa15d-0fe7-464e-9ddb-e25e8ec08593",
   "metadata": {},
   "outputs": [
    {
     "name": "stdout",
     "output_type": "stream",
     "text": [
      "\n",
      "Solução x:\n",
      "[ 0.65  0.9  -0.75]\n"
     ]
    }
   ],
   "source": [
    "x = np.linalg.solve(A, b)\n",
    "\n",
    "print(\"\\nSolução x:\")\n",
    "print(x)"
   ]
  },
  {
   "cell_type": "markdown",
   "id": "2a73ea01-c088-4a92-928b-b2e6005702a5",
   "metadata": {},
   "source": [
    "<h4>\n",
    "    <b>\n",
    "        2. SciPy $PA = LU$\n",
    "    </b>\n",
    "</h4>"
   ]
  },
  {
   "cell_type": "code",
   "execution_count": 15,
   "id": "35bef0e0-3452-4049-97fc-51c76ef5570b",
   "metadata": {},
   "outputs": [
    {
     "name": "stdout",
     "output_type": "stream",
     "text": [
      "Solução do sistema (x):\n",
      "[1. 2.]\n"
     ]
    }
   ],
   "source": [
    "import numpy as np\n",
    "from scipy.linalg import lu\n",
    "\n",
    "A = np.array([[4, 3], [6, 3]] ,dtype=float)\n",
    "b = np.array([10, 12]         ,dtype=float)\n",
    "\n",
    "P, L, U = lu(A)\n",
    "\n",
    "y = np.linalg.solve(L, P @ b) # Ly = Pb\n",
    "x = np.linalg.solve(U, y)     # Ux = y\n",
    "\n",
    "print(\"Solução do sistema (x):\")\n",
    "print(x)"
   ]
  },
  {
   "cell_type": "markdown",
   "id": "132f0058-1276-4327-aff2-dff724ad851d",
   "metadata": {},
   "source": [
    "<h4>\n",
    "    <b>\n",
    "        3. SciPy Cholesky\n",
    "    </b>\n",
    "</h4>"
   ]
  },
  {
   "cell_type": "code",
   "execution_count": 11,
   "id": "524b2822-a478-4e18-b20d-b2c76e02c2d8",
   "metadata": {},
   "outputs": [
    {
     "name": "stdout",
     "output_type": "stream",
     "text": [
      "Solução do sistema (x):\n",
      "[  6. -11.  24.]\n"
     ]
    }
   ],
   "source": [
    "import numpy as np\n",
    "from scipy.linalg import cholesky, solve\n",
    "\n",
    "A = np.array([[2, 1, 0], \n",
    "              [1, 5, 2], \n",
    "              [0, 2, 1]])\n",
    "\n",
    "b = np.array([1, -1, 2])\n",
    "\n",
    "G = cholesky(A, lower=True)\n",
    "\n",
    "y = solve(G, b)   # G*y  = b\n",
    "x = solve(G.T, y) # Gt*x = y\n",
    "\n",
    "print(\"Solução do sistema (x):\")\n",
    "print(x)"
   ]
  },
  {
   "cell_type": "markdown",
   "id": "f2cdbb8f-266f-4fcb-99bb-5f89f6d6a179",
   "metadata": {},
   "source": [
    "<h4>\n",
    "    <b>\n",
    "        4. NumPy polyfit\n",
    "    </b>\n",
    "</h4>"
   ]
  },
  {
   "cell_type": "code",
   "execution_count": 24,
   "id": "28bacb2b-2c59-43cf-99ce-386b26f2540f",
   "metadata": {},
   "outputs": [
    {
     "data": {
      "image/png": "[encoded data removed]",
      "text/plain": [
       "<Figure size 640x480 with 1 Axes>"
      ]
     },
     "metadata": {},
     "output_type": "display_data"
    }
   ],
   "source": [
    "import numpy as np\n",
    "import matplotlib.pyplot as plt\n",
    "\n",
    "x = np.array([1, 2, 3, 4, 5])\n",
    "y = np.array([2.2, 2.8, 3.6, 4.5, 5.1])\n",
    "\n",
    "coef = np.polyfit(x, y, 4)\n",
    "\n",
    "x_fit = np.linspace(1, 5, 100)\n",
    "y_fit = np.polyval(coef, x_fit)\n",
    "\n",
    "plt.scatter(x, y, label='Dados', color='red')\n",
    "plt.plot(x_fit, y_fit, label='Polinômio Ajustado', color='blue')\n",
    "plt.legend()\n",
    "plt.show()"
   ]
  }
 ],
 "metadata": {
  "kernelspec": {
   "display_name": "Python 3 (ipykernel)",
   "language": "python",
   "name": "python3"
  },
  "language_info": {
   "codemirror_mode": {
    "name": "ipython",
    "version": 3
   },
   "file_extension": ".py",
   "mimetype": "text/x-python",
   "name": "python",
   "nbconvert_exporter": "python",
   "pygments_lexer": "ipython3",
   "version": "3.10.12"
  }
 },
 "nbformat": 4,
 "nbformat_minor": 5
}
