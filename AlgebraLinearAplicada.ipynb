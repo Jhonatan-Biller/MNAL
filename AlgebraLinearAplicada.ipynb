{
 "cells": [
  {
   "cell_type": "markdown",
   "id": "0ff6d0a6-5bdc-453c-ac87-066924afc4d8",
   "metadata": {},
   "source": [
    "<h3>\n",
    "    <b>\n",
    "        <font color='#660000'>\n",
    "            Métodos Numéricos em Álgebra Linear\n",
    "        </font>\n",
    "    </b>\n",
    "</h3>\n",
    "\n"
   ]
  },
  {
   "cell_type": "markdown",
   "id": "1bf99d32-00b4-4aa5-8f77-e5455daee7b4",
   "metadata": {},
   "source": [
    "<h4>\n",
    "    <b>\n",
    "        1. Pivotação Parcial\n",
    "    </b>\n",
    "</h4>"
   ]
  },
  {
   "cell_type": "markdown",
   "id": "c0d9c56f-359e-4100-8335-64a7bba4e291",
   "metadata": {},
   "source": [
    "A função a seguir, dada uma matriz $A \\in \\mathbb{R}^{m \\times n }$, $\\: m,n\\in \\mathbb{N}$, $\\: m,n>1$ e um número $k \\in \\mathbb{N}$, $ 0\\leq k \\leq m-1$, realiza a pivotação entre a linha do elemento $A(k,k)$ e a linha que possui maior elemento em módulo na coluna abaixo do elemento $A(k,k)$. "
   ]
  },
  {
   "cell_type": "code",
   "execution_count": 1,
   "id": "ee5127a9-0ee0-44f5-8b63-fbaf23057617",
   "metadata": {},
   "outputs": [],
   "source": [
    "import numpy as np\n",
    "\n",
    "def piv_parc(A,k):\n",
    "    \n",
    "    i = np.argmax(np.abs(A[k:,k]))\n",
    "\n",
    "    v =  A[k,:].copy()\n",
    "\n",
    "    A[k  ,:] = A[i+k,:]\n",
    "    \n",
    "    A[i+k,:] = v\n",
    "\n",
    "    return A"
   ]
  },
  {
   "cell_type": "markdown",
   "id": "c74b2453-31d8-41cb-84f3-df33caf1c04c",
   "metadata": {},
   "source": [
    "<h4>\n",
    "    <b>\n",
    "        2. Pivotação Total\n",
    "    </b>\n",
    "</h4>"
   ]
  },
  {
   "cell_type": "markdown",
   "id": "12622016-e22d-4380-a067-7014d784950c",
   "metadata": {},
   "source": [
    "A função a seguir, dada uma matriz $A \\in \\mathbb{R}^{m \\times n }$, $\\: m,n\\in \\mathbb{N}$, $\\: m,n>1$ e um número $k \\in \\mathbb{N}$, $ 0\\leq k \\leq m-1$, realiza a pivotação entre a linha do elemento $A(k,k)$ e a linha que possui o maior elemento em módulo da submatriz $A^{k,n}_{k,m}$, e posteriormente, realiza a troca de colunas entre a coluna desse maior elemento e a coluna do elemento $A(k,k)$. "
   ]
  },
  {
   "cell_type": "code",
   "execution_count": 2,
   "id": "1547a3e9-02f4-43a4-9721-1e6bdb7de3ae",
   "metadata": {},
   "outputs": [],
   "source": [
    "import numpy as np\n",
    "\n",
    "def piv_tot(A,k):\n",
    "\n",
    "    C = A[k:,k:]\n",
    "\n",
    "    i, j = np.unravel_index(np.argmax(np.abs(C)), C.shape)\n",
    "\n",
    "    v  = A[k,:].copy()\n",
    "    \n",
    "    A[k  ,:] = A[i+k,:]\n",
    "    A[i+k,:] = v\n",
    "\n",
    "    v = A[:,k].copy()\n",
    "\n",
    "    A[:,k  ] = A[:,j+k]\n",
    "    A[:,j+k] = v\n",
    "\n",
    "    return A"
   ]
  },
  {
   "cell_type": "markdown",
   "id": "b4ad677d-9e61-4318-b202-77b6773bbde6",
   "metadata": {},
   "source": [
    "<h4>\n",
    "    <b>\n",
    "        3. Escalonamento (equilíbrio)\n",
    "    </b>\n",
    "</h4>\n",
    "\n",
    "Dada uma matriz $A \\in \\mathbb{R}^{m \\times n }$, $\\: m,n\\in \\mathbb{N}$, $\\: m,n>1$, a função a seguir, inicialmente, divide-se cada linha pelo maior elemento em módulo dessa linha a partir do elemento $A(k,k)$, $k \\in \\mathbb{N}$, $0 \\leq k \\leq m$, em seguida, é realizado pivoteamento parcial considerando o pivô $A(1,1)$. Por fim, cada linha $i$ é dividida pelo seu elemento $ A(i,i)$ resultando uma matriz com $diag(A)=1$."
   ]
  },
  {
   "cell_type": "code",
   "execution_count": 3,
   "id": "3807d6fd-a79e-49f6-a47f-8cb58809193f",
   "metadata": {},
   "outputs": [],
   "source": [
    "import numpy as np\n",
    "\n",
    "def escalonamento(A):\n",
    "\n",
    "    m, n = A.shape\n",
    "\n",
    "    for i in range(0,m):\n",
    "\n",
    "      s = np.max(np.abs(A[i, i:]))\n",
    "        \n",
    "      if s != 0:\n",
    "          \n",
    "        A[i,:] = A[i,:] / s\n",
    "\n",
    "    A = piv_parc(A,0)\n",
    "    \n",
    "    for i in range(0,m):\n",
    "\n",
    "        c = np.abs(A[i,i])\n",
    "        \n",
    "        if c != 0:\n",
    "                        \n",
    "            A[i,:] = A[i,:] / c\n",
    "    \n",
    "    return A"
   ]
  },
  {
   "cell_type": "markdown",
   "id": "defec564-b52b-4207-b0ea-0f6923d46a1f",
   "metadata": {},
   "source": [
    "<h4>\n",
    "    <b>\n",
    "        4. Substituição regressiva\n",
    "    </b>\n",
    "</h4>\n",
    "\n",
    "Seja $A \\in \\mathbb{R}^{n \\times n}$,  $\\: m,n\\in \\mathbb{N}$, $\\: m,n>1$,  triangular superior com $diag(A) \\neq 0$ e $b \\in \\mathbb{R}^n$. Dado $\\left [ \\: A  \\: | \\: b \\: \\right ]$, a função a seguir retorna um vetor $x = (x_1 , x_2, \\dots, x_n)^T$ tal que $Ax=b$."
   ]
  },
  {
   "cell_type": "code",
   "execution_count": 4,
   "id": "4eb003a9-8078-4c79-be7c-109df8636f48",
   "metadata": {},
   "outputs": [],
   "source": [
    "import numpy as np\n",
    "\n",
    "def subs_reg(A):\n",
    "\n",
    "    m, n = A.shape\n",
    "\n",
    "    x = np.zeros(m)\n",
    "    \n",
    "    x[m-1] = A[m-1,-1] / A[m-1,-2]\n",
    "\n",
    "    for i in range(m-2,-1,-1):\n",
    "    \n",
    "        soma = 0\n",
    "        \n",
    "        for j in range(i+1,n-1):\n",
    "            \n",
    "            soma = soma + A[i,j] * x[j]\n",
    "        \n",
    "        x[i] = (A[i,-1] - soma) / A[i,i]\n",
    "\n",
    "    return x"
   ]
  },
  {
   "cell_type": "markdown",
   "id": "a4d9fed6-f3e4-4efc-b66d-3043d4f332c3",
   "metadata": {},
   "source": [
    "<h4>\n",
    "    <b>\n",
    "        5. Substituição direta\n",
    "    </b>\n",
    "</h4>\n",
    "Seja $A \\in \\mathbb{R}^{n \\times n}$,  $\\: m,n\\in \\mathbb{N}$, $\\: m,n>1$,  triangular inferior com $diag(A) \\neq 0$ e $b \\in \\mathbb{R}^n$. Dado $\\left [ \\: A  \\: | \\: b \\: \\right ]$, a função a seguir retorna um vetor $x = (x_1 , x_2, \\dots, x_n)^T$ tal que $Ax=b$."
   ]
  },
  {
   "cell_type": "code",
   "execution_count": 5,
   "id": "813a3bd5-b9e8-477c-86bb-016a41d7264f",
   "metadata": {},
   "outputs": [],
   "source": [
    "import numpy as np\n",
    "\n",
    "def subs_dir(A):\n",
    "\n",
    "    m, n = A.shape\n",
    "\n",
    "    x = np.zeros(m)\n",
    "\n",
    "    x[0] = A[0,0] / A[0,-1]\n",
    "    \n",
    "    for i in range(1,m):\n",
    "        \n",
    "        soma = 0\n",
    "        \n",
    "        for j in range(0,i+1):\n",
    "            \n",
    "            soma = soma + A[i,j] * x[j]\n",
    "        \n",
    "        x[i] = (A[i,-1] - soma) / A[i,i]\n",
    "\n",
    "    return x"
   ]
  },
  {
   "cell_type": "markdown",
   "id": "fc9d9af9-0939-40c3-8f91-c8509b5ff858",
   "metadata": {},
   "source": [
    "<h4>\n",
    "    <b>\n",
    "        6. Eliminação de Gauss\n",
    "    </b>\n",
    "</h4>\n",
    "\n",
    "A função a seguir, dada uma matriz $A \\in \\mathbb{R}^{m \\times n }$, $\\: n\\in \\mathbb{N}$, $\\: n>1$, zera os elementos de uma coluna abaixo do elemento $A(k,k)$, $k \\in \\mathbb{N}$, $ 0\\leq k \\leq m-1$. Além disso, o multiplicador para zerar um elemento $A(i,j)$ é armazenado em $M(i,j)$. "
   ]
  },
  {
   "cell_type": "code",
   "execution_count": 6,
   "id": "f004addf-b5cc-4959-8687-88befda65da9",
   "metadata": {},
   "outputs": [],
   "source": [
    "import numpy as np\n",
    "\n",
    "def gauss_parc(A):\n",
    "\n",
    "    m, n = A.shape\n",
    "\n",
    "    M = np.zeros_like(A, dtype=float)\n",
    "    \n",
    "    for k in range(0,m-1):\n",
    "    \n",
    "        A = piv_parc(A,k) # Ou, A = piv_tot(A,k)\n",
    "\n",
    "        if A[k,k] != 0 and A[k+1,k] != 0:\n",
    "            \n",
    "            for i in range(k+1,m):\n",
    "                \n",
    "                M[i,k] = A[i,k] / A[k,k]\n",
    "                A[i,:] = A[i,:] - M[i,k] * A[k,:]\n",
    "    \n",
    "    return M, A"
   ]
  },
  {
   "cell_type": "markdown",
   "id": "fd65b464-f7ed-4294-83d0-84aaf7b18625",
   "metadata": {},
   "source": [
    "<h4>\n",
    "    <b>\n",
    "        7. Fatoração LU\n",
    "    </b>\n",
    "</h4>"
   ]
  },
  {
   "cell_type": "markdown",
   "id": "261dfe80-7936-419e-9e1f-a44d62b098aa",
   "metadata": {},
   "source": [
    "A função a seguir, dada uma matriz $A \\in \\mathbb{R}^{n \\times n }$, $\\: n\\in \\mathbb{N}$, $\\: n>1$, calcula uma matriz $L$, triangular inferior com $diag(L)=1$, e $U$, triangular superior, tais que $A=LU$. Se a resposta da função for vazia, isto significa que em algum passo, o elemento pivô é zero. "
   ]
  },
  {
   "cell_type": "code",
   "execution_count": 7,
   "id": "7ef27a19-2342-41a2-8ed5-09474bec8a27",
   "metadata": {},
   "outputs": [],
   "source": [
    "import numpy as np\n",
    "\n",
    "def lu(A):\n",
    "\n",
    "    n = len(A)\n",
    "    L = np.eye(n,n)\n",
    "    \n",
    "    for k in range(0,n-1):\n",
    "\n",
    "        if A[k,k] == 0:\n",
    "                return [],[]\n",
    "        \n",
    "        for i in range(k+1,n):\n",
    "                    \n",
    "            L[i,k] = A[i,k] / A[k,k]\n",
    "            A[i,:] = A[i,:] - L[i,k] * A[k,:]\n",
    "    \n",
    "    return L, A "
   ]
  },
  {
   "cell_type": "markdown",
   "id": "657031e4-4522-412d-8832-ff81d6f782b1",
   "metadata": {},
   "source": [
    "<h4>\n",
    "    <b>\n",
    "        8. Fatoração de Cholesky (via $LDL$)\n",
    "    </b>\n",
    "</h4>\n",
    "\n",
    "Seja  $A \\in \\mathbb{R}^{n \\times n }$, $\\: n\\in \\mathbb{N}$, $\\: n>1$ tal que $A=A^T$. A função a seguir calcula uma matriz $G$, triangular inferior, tal que $A=GG^T$. Se a função retorna $G$ tal que $A\\neq GG^T$, a matriz $A$ não é positiva definida. "
   ]
  },
  {
   "cell_type": "code",
   "execution_count": 8,
   "id": "007ca141-b6e6-49ed-8f46-fcf041cbf17b",
   "metadata": {},
   "outputs": [],
   "source": [
    "import numpy as np\n",
    "\n",
    "def ldl_cholesky(A):\n",
    "\n",
    "    L, U = lu(A)\n",
    "\n",
    "    D = np.zeros_like(A)\n",
    "    \n",
    "    d = np.sqrt(np.diag( U ))\n",
    "\n",
    "    np.fill_diagonal(D, d)\n",
    "    \n",
    "    G = L @ D\n",
    "    \n",
    "    return G"
   ]
  },
  {
   "cell_type": "markdown",
   "id": "50678cb2-b2ed-47d3-8c06-f102e800da44",
   "metadata": {},
   "source": [
    "<h4>\n",
    "    <b>\n",
    "        9. Generalized Alpha X Plus Y Cholesky\n",
    "    </b>\n",
    "</h4>\n",
    "\n",
    "Dado $A \\in \\mathbb{R}^{n \\times n}$ simétrica e positiva definida, a função abaixo calcula uma matriz triangular inferior $G$ tal que $A=GG^T$. Para todo $i \\geq j$, $G(i,j)$ sobrescreve $A(i,j)$. \n",
    "\n",
    "<b>Referência:</b> Golub, Matrix Computations."
   ]
  },
  {
   "cell_type": "code",
   "execution_count": 9,
   "id": "82af7ea5-5d00-4b35-92de-c16218908e27",
   "metadata": {},
   "outputs": [],
   "source": [
    "import numpy as np\n",
    "\n",
    "def gaxpy_cholesky(A):\n",
    "\n",
    "    n = len(A)\n",
    "    \n",
    "    for j in range(0,n):\n",
    "        \n",
    "        if j > 0:\n",
    "\n",
    "            A[j:n,j] = A[j:n,j] - A[j:n,0:j] @ A[j,0:j].T\n",
    "        \n",
    "        A[j:n,j] = A[j:n,j] / np.sqrt(A[j,j])\n",
    "        \n",
    "    return np.tril(A)"
   ]
  },
  {
   "cell_type": "markdown",
   "id": "dc9b6ee4-0411-4be7-be0f-addcf739f9fa",
   "metadata": {},
   "source": [
    "<h4>\n",
    "    <b>\n",
    "        9. Fatoração de Cholesky\n",
    "    </b>\n",
    "</h4>\n",
    "\n",
    "Dado $A \\in \\mathbb{R}^{n \\times n}$ simétrica definida positiva, o fator de Cholesky $G \\in \\mathbb{R}^{n \\times n}$ tal que $A=GG^t$ pode ser obtido atraveś do seguinte algoritmo:\n",
    "\n",
    "<b>Referência:</b> <a href='https://www.ime.unicamp.br/~marcia/AlgebraLinear/Arquivos%20PDF/algo_cholesky.pdf'>Unicamp, algo_cholesky.pdf</a>."
   ]
  },
  {
   "cell_type": "code",
   "execution_count": 10,
   "id": "e516adf3-65ea-4391-b60f-492ff13c7544",
   "metadata": {},
   "outputs": [],
   "source": [
    "import numpy as np\n",
    "\n",
    "def cholesky(A):\n",
    "\n",
    "    n = len(A)\n",
    "\n",
    "    for k in range(0,n):   \n",
    "        s = 0\n",
    "        \n",
    "        for i in range(0,k):\n",
    "            s = s + np.square(A[k,i])\n",
    "            \n",
    "        s = A[k,k] - s\n",
    "\n",
    "        if s <= 0:\n",
    "            return []\n",
    "            \n",
    "        A[k,k] = np.sqrt(s)\n",
    "        \n",
    "        for j in range(k+1,n):\n",
    "            s = 0\n",
    "            \n",
    "            for i in range(0,k):    \n",
    "                s = s + A[j,i]*A[k,i]\n",
    "                \n",
    "            A[j,k] = (A[j,k]-s)/A[k,k]\n",
    "\n",
    "    return np.tril(A)"
   ]
  },
  {
   "cell_type": "markdown",
   "id": "d3071e67-92c7-46d1-97e0-1b7535148232",
   "metadata": {},
   "source": [
    "<h4>\n",
    "    <b>\n",
    "        10. Fatoração QR (Gram-Schmidt Clássico)\n",
    "    </b>\n",
    "</h4>\n",
    "\n",
    "Dado $A \\in R^{m\\times n}$, com rank$(A)=n$, a função a seguir calcula a fatoração QR reduzida $A=R_1Q_1$ onde $Q_1  \\in R^{m\\times n} $ tem colunas ortonormais e $R_1 \\in R^{n\\times n} $ é triangular superior.\n",
    "\n",
    "<b>Referência:</b> Golub, Matrix Computations."
   ]
  },
  {
   "cell_type": "code",
   "execution_count": 15,
   "id": "64f24f0f-6cd4-43b7-acbe-dbab27e2432b",
   "metadata": {},
   "outputs": [],
   "source": [
    "def qr_gramschmidt_classico(A):\n",
    "    m, n = A.shape\n",
    "\n",
    "    Q = np.zeros((m, n))\n",
    "    R = np.zeros((n, n))\n",
    "\n",
    "    R[0, 0] = np.linalg.norm(A[:, 0])\n",
    "    Q[:, 0] = A[:, 0] / R[0, 0]\n",
    "\n",
    "    for k in range(1, n):\n",
    "        \n",
    "        R[:k, k] = Q[:, :k].T @ A[:, k]\n",
    "        z        = A[:, k] - Q[:, :k] @ R[:k, k]\n",
    "        R[k, k]  = np.linalg.norm(z)\n",
    "        Q[:, k]  = z / R[k, k]\n",
    "\n",
    "    return Q, R\n",
    "\n",
    "#B = np.array([[1,0,2],[0,1,1],[1,2,0]],dtype=float)"
   ]
  }
 ],
 "metadata": {
  "kernelspec": {
   "display_name": "Python 3 (ipykernel)",
   "language": "python",
   "name": "python3"
  },
  "language_info": {
   "codemirror_mode": {
    "name": "ipython",
    "version": 3
   },
   "file_extension": ".py",
   "mimetype": "text/x-python",
   "name": "python",
   "nbconvert_exporter": "python",
   "pygments_lexer": "ipython3",
   "version": "3.10.12"
  }
 },
 "nbformat": 4,
 "nbformat_minor": 5
}
