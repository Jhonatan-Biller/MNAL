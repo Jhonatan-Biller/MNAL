{
 "cells": [
  {
   "cell_type": "markdown",
   "id": "83b59edd-5a38-4907-b706-1f275e7a6ce5",
   "metadata": {},
   "source": [
    "<h3>\n",
    "    <b>\n",
    "        <font color='#660000'>\n",
    "            Normas Matriciais e condicionamento\n",
    "        </font>\n",
    "    </b>\n",
    "</h3>\n"
   ]
  },
  {
   "cell_type": "markdown",
   "id": "ada612db-533f-4f6b-9e09-f084fe64c919",
   "metadata": {},
   "source": [
    "<h4>\n",
    "    <b>\n",
    "        1. Norma Matricial\n",
    "    </b>\n",
    "</h4>\n",
    "\n",
    "A função $\\left\\| \\cdot \\right\\|: \\ \\mathbb{R}^{m \\times n} \\rightarrow \\mathbb{R}$ define uma norma matricial se $\\forall A,B \\in \\mathbb{R}^{m \\times n}$ e $\\alpha \\in \\mathbb{R}$, satisfaz:\n",
    "\n",
    "<ul>\n",
    "    <li>$\\left\\| A \\right\\| > 0, A \\neq 0$;</li>\n",
    "    <li>$\\left\\| \\lambda A \\right\\| = |\\lambda|\\left\\| A \\right\\|$;</li>\n",
    "    <li>$\\left\\| A + B \\right\\| \\leq \\left\\| A \\right\\| + \\left\\| B \\right\\|$;</li>\n",
    "    <li>$\\left\\| AB \\right\\| \\leq \\left\\| A \\right\\|\\left\\| B \\right\\|$.</li>\n",
    "</ul>\n",
    "\n",
    "<h4>\n",
    "    <b>\n",
    "        2. Norma-p\n",
    "    </b>\n",
    "</h4>\n",
    "\n",
    "A função a seguir retorna a norma-p de uma matriz para $1 \\leq p < \\infty $, a qual é definida por:\n",
    "\n",
    "$$ \\left\\| A \\right\\|_p = \\left(  \\sum_{i=1}^{m} \\sum_{j=1}^{n} |a_{ij}|^{p} \\right)^{1/p}. $$"
   ]
  },
  {
   "cell_type": "code",
   "execution_count": 1,
   "id": "5e738061-cddb-4066-9623-4db00aa95e88",
   "metadata": {},
   "outputs": [],
   "source": [
    "def normap(A,p):\n",
    "    return (np.sum(np.abs(A)**p))**(1/p)"
   ]
  },
  {
   "cell_type": "markdown",
   "id": "a077f681-e2db-4b2d-80f5-b380df84c84f",
   "metadata": {},
   "source": [
    "<h4>\n",
    "    <b>\n",
    "        3. Norma do sup\n",
    "    </b>\n",
    "</h4>\n",
    "A função a seguir retorna a norma do sup (norma do infinito ou norma do máximo) de uma matriz $A \\in R^{m \\times n}$. Essa norma é definida por:\n",
    "\n",
    "$$ \\left\\| A \\right\\|_{\\text{sup, col}} = \\underset{1 \\leq i \\leq m}{max}\\sum_{j=1}^{m}|a_{ij}|$$"
   ]
  },
  {
   "cell_type": "code",
   "execution_count": 2,
   "id": "4b35abe7-f852-4fab-a578-b783881ee59d",
   "metadata": {},
   "outputs": [],
   "source": [
    "def normasup(A):\n",
    "    return np.max(np.sum(np.abs(A), axis=1))"
   ]
  },
  {
   "cell_type": "markdown",
   "id": "1e64f60e-0d0e-491d-9187-96160543ec13",
   "metadata": {},
   "source": [
    "<h4>\n",
    "    <b>\n",
    "        4. Matriz Inversa\n",
    "    </b>\n",
    "</h4>\n",
    "\n",
    "Se $A,X \\in \\mathbb{R}^{m \\times n}$ satisfazem $AX=I$, então $X$ é a inversa (denotada por $A^{-1}$) de $A$."
   ]
  },
  {
   "cell_type": "markdown",
   "id": "5e28028b-3dad-441a-89f3-35e76e2803b3",
   "metadata": {},
   "source": [
    "<h4>\n",
    "    <b>\n",
    "        5. Número de condicionamento\n",
    "    </b>\n",
    "</h4>\n",
    "\n",
    "Para matrizes quadradas $A$ define o número de condicionamento $\\kappa(A)$ por:\n",
    "\n",
    "$$\\kappa(A) =|| A ||  \\ || A^{-1} ||. $$\n",
    "\n",
    "Como $||A|| \\geq 1, A \\neq 0$, temos que se $\\kappa(A)$ é próximo de zero temos uma matriz bem condicionada.\n",
    "\n",
    "<b>Referência:</b> Golub, Matrix Computations."
   ]
  },
  {
   "cell_type": "markdown",
   "id": "ea741feb-111c-4d16-95b2-717405e14c84",
   "metadata": {},
   "source": [
    "<h4>\n",
    "    <b>\n",
    "        6. Matriz de Hilbert\n",
    "    </b>\n",
    "</h4>\n",
    "\n",
    "A Matriz de Hilbert é uma matriz $H \\in \\mathbb{R}^{m\\times n}$ tal que \n",
    "\n",
    "$$h_{i,j} = \\frac{1}{i+j-1}$$.\n",
    "\n",
    "A função a seguir retorna a Matriz de Hilbert com $m$ linhas e $n$ colunas."
   ]
  },
  {
   "cell_type": "code",
   "execution_count": 3,
   "id": "84fd3e30-0c68-4214-98fa-2b0118b5984a",
   "metadata": {},
   "outputs": [],
   "source": [
    "import numpy as np \n",
    "\n",
    "def hilbert(m,n):\n",
    "\n",
    "    H = np.zeros((m,n), dtype=float)\n",
    "\n",
    "    for i in range(0,m):\n",
    "\n",
    "        for j in range(0,n):\n",
    "\n",
    "            H[i,j] = 1/(i+j+1)\n",
    "            \n",
    "    return H"
   ]
  },
  {
   "cell_type": "markdown",
   "id": "0c746374-a7e6-45c5-856b-3d2be210d14b",
   "metadata": {},
   "source": [
    "<h4>\n",
    "    <b>\n",
    "        <font color='#0d1f49'>7. Exemplo</font>\n",
    "    </b>\n",
    "</h4>\n",
    "\n",
    "Calcule o número de condicionamento de $H_{10}$ utilizando a norma de Frobenius, Soma e Sup."
   ]
  },
  {
   "cell_type": "code",
   "execution_count": 4,
   "id": "2646e1a6-9113-4307-a873-8865f6d8a00e",
   "metadata": {},
   "outputs": [
    {
     "data": {
      "text/plain": [
       "array([[1.        , 0.5       , 0.33333333, 0.25      , 0.2       ,\n",
       "        0.16666667, 0.14285714, 0.125     , 0.11111111, 0.1       ],\n",
       "       [0.5       , 0.33333333, 0.25      , 0.2       , 0.16666667,\n",
       "        0.14285714, 0.125     , 0.11111111, 0.1       , 0.09090909],\n",
       "       [0.33333333, 0.25      , 0.2       , 0.16666667, 0.14285714,\n",
       "        0.125     , 0.11111111, 0.1       , 0.09090909, 0.08333333],\n",
       "       [0.25      , 0.2       , 0.16666667, 0.14285714, 0.125     ,\n",
       "        0.11111111, 0.1       , 0.09090909, 0.08333333, 0.07692308],\n",
       "       [0.2       , 0.16666667, 0.14285714, 0.125     , 0.11111111,\n",
       "        0.1       , 0.09090909, 0.08333333, 0.07692308, 0.07142857],\n",
       "       [0.16666667, 0.14285714, 0.125     , 0.11111111, 0.1       ,\n",
       "        0.09090909, 0.08333333, 0.07692308, 0.07142857, 0.06666667],\n",
       "       [0.14285714, 0.125     , 0.11111111, 0.1       , 0.09090909,\n",
       "        0.08333333, 0.07692308, 0.07142857, 0.06666667, 0.0625    ],\n",
       "       [0.125     , 0.11111111, 0.1       , 0.09090909, 0.08333333,\n",
       "        0.07692308, 0.07142857, 0.06666667, 0.0625    , 0.05882353],\n",
       "       [0.11111111, 0.1       , 0.09090909, 0.08333333, 0.07692308,\n",
       "        0.07142857, 0.06666667, 0.0625    , 0.05882353, 0.05555556],\n",
       "       [0.1       , 0.09090909, 0.08333333, 0.07692308, 0.07142857,\n",
       "        0.06666667, 0.0625    , 0.05882353, 0.05555556, 0.05263158]])"
      ]
     },
     "execution_count": 4,
     "metadata": {},
     "output_type": "execute_result"
    }
   ],
   "source": [
    "#Criando matriz de Hilbert 10x10\n",
    "H = hilbert(10,10)\n",
    "H"
   ]
  },
  {
   "cell_type": "code",
   "execution_count": 5,
   "id": "50b7d7a3-db96-44fc-8214-5bf6e719785c",
   "metadata": {},
   "outputs": [
    {
     "data": {
      "text/plain": [
       "array([[ 9.99990074e+01, -4.94991686e+03,  7.91982741e+04,\n",
       "        -6.00584641e+05,  2.52244805e+06, -6.30610526e+06,\n",
       "         9.60928474e+06, -8.75129888e+06,  4.37564353e+06,\n",
       "        -9.23745904e+05],\n",
       "       [-4.94991467e+03,  3.26692866e+05, -5.88045209e+06,\n",
       "         4.75662053e+07, -2.08101748e+08,  5.35117960e+08,\n",
       "        -8.32404682e+08,  7.70115105e+08, -3.89870436e+08,\n",
       "         8.31372935e+07],\n",
       "       [ 7.91981869e+04, -5.88044861e+06,  1.12904385e+08,\n",
       "        -9.51322556e+08,  4.28094659e+09, -1.12374746e+10,\n",
       "         1.77579717e+10, -1.66344983e+10,  8.50627335e+09,\n",
       "        -1.82902303e+09],\n",
       "       [-6.00583535e+05,  4.75661466e+07, -9.51321979e+08,\n",
       "         8.24478456e+09, -3.78744588e+10,  1.00998516e+11,\n",
       "        -1.61597574e+11,  1.52903045e+11, -7.88406164e+10,\n",
       "         1.70708998e+10],\n",
       "       [ 2.52244149e+06, -2.08101356e+08,  4.28094147e+09,\n",
       "        -3.78744374e+10,  1.76747368e+11, -4.77217890e+11,\n",
       "         7.71261244e+11, -7.35846201e+11,  3.82073998e+11,\n",
       "        -8.32207057e+10],\n",
       "       [-6.30608416e+06,  5.35116620e+08, -1.12374550e+10,\n",
       "         1.00998406e+11, -4.77217647e+11,  1.30150310e+12,\n",
       "        -2.12096860e+12,  2.03772858e+12, -1.06434953e+12,\n",
       "         2.33018132e+11],\n",
       "       [ 9.60924575e+06, -8.32402106e+08,  1.77579314e+10,\n",
       "        -1.61597320e+11,  7.71260496e+11, -2.12096765e+12,\n",
       "         3.48056407e+12, -3.36387024e+12,  1.76603254e+12,\n",
       "        -3.88363766e+11],\n",
       "       [-8.75125749e+06,  7.70112296e+08, -1.66344526e+10,\n",
       "         1.52902738e+11, -7.35845184e+11,  2.03772684e+12,\n",
       "        -3.36386891e+12,  3.26776033e+12, -1.72323387e+12,\n",
       "         3.80438150e+11],\n",
       "       [ 4.37562009e+06, -3.89868813e+08,  8.50624616e+09,\n",
       "        -7.88404266e+10,  3.82073328e+11, -1.06434825e+12,\n",
       "         1.76603123e+12, -1.72323328e+12,  9.12300550e+11,\n",
       "        -2.02107846e+11],\n",
       "       [-9.23740411e+05,  8.31369076e+07, -1.82901644e+09,\n",
       "         1.70708524e+10, -8.32205314e+10,  2.33017775e+11,\n",
       "        -3.88363356e+11,  3.80437902e+11, -2.02107785e+11,\n",
       "         4.49128697e+10]])"
      ]
     },
     "execution_count": 5,
     "metadata": {},
     "output_type": "execute_result"
    }
   ],
   "source": [
    "#Calculando a matriz inversa de H\n",
    "Hinv = np.linalg.inv(H)\n",
    "Hinv"
   ]
  },
  {
   "cell_type": "code",
   "execution_count": 7,
   "id": "56a1425e-b521-4134-9bde-b65934ccf2fa",
   "metadata": {},
   "outputs": [
    {
     "name": "stdout",
     "output_type": "stream",
     "text": [
      "Norma Frob. k(A)=1.63e+13\n",
      "Norma Soma. k(A)=5.60e+14\n",
      "Norma Supr. k(A)=3.54e+13\n"
     ]
    }
   ],
   "source": [
    "print( 'Norma Frob. k(A)={:.2e}'.format( normap(H,2) * normap(Hinv,2) ) )\n",
    "print( 'Norma Soma. k(A)={:.2e}'.format( normap(H,1) * normap(Hinv,1) ) )\n",
    "print( 'Norma Supr. k(A)={:.2e}'.format( normasup(H) * normasup(Hinv) ) )"
   ]
  },
  {
   "cell_type": "markdown",
   "id": "a993e29d-26d5-422f-a4f8-7b1c6cfb7f1c",
   "metadata": {},
   "source": [
    "<h4>\n",
    "    <b>\n",
    "        <font color='#0d1f49'>8. Exemplo</font>\n",
    "    </b>\n",
    "</h4>\n",
    "Considere o sistema linear $Ax=b$:\n",
    "\n",
    "$$  \\begin{pmatrix}\n",
    " +2 &  -1,0 & -1,0 & +0,0 \\\\\n",
    " -1 & +1,5 & +0,0 & -0,5 \\\\\n",
    " -1 & +0,0 & +1,7  & -0,2  \\\\\n",
    "+0 & -0,5  & -0,2  & +1,7  \\\\\n",
    "\\end{pmatrix} \\begin{pmatrix}\n",
    " x_1\\\\\n",
    " x_2\\\\\n",
    "x_3 \\\\\n",
    "x_4 \n",
    "\\end{pmatrix} = \\begin{pmatrix}\n",
    "0 \\\\\n",
    " 0\\\\\n",
    " 0\\\\\n",
    "3\n",
    "\\end{pmatrix}$$\n",
    " \n",
    "<b>a)</b> Ache a solução do sistema linear por qualquer método.\n",
    "\n",
    "Usando Fatoração de Cholesky:"
   ]
  },
  {
   "cell_type": "code",
   "execution_count": 21,
   "id": "9b3f5e5b-87c1-4ac3-8605-64406a1f0025",
   "metadata": {},
   "outputs": [
    {
     "name": "stdout",
     "output_type": "stream",
     "text": [
      "A é simétrica.\n"
     ]
    },
    {
     "data": {
      "text/plain": [
       "array([[ 1.41421356,  0.        ,  0.        ,  0.        ],\n",
       "       [-0.70710678,  1.        ,  0.        ,  0.        ],\n",
       "       [-0.70710678, -0.5       ,  0.97467943,  0.        ],\n",
       "       [ 0.        , -0.5       , -0.46169026,  1.11213403]])"
      ]
     },
     "execution_count": 21,
     "metadata": {},
     "output_type": "execute_result"
    }
   ],
   "source": [
    "import numpy as np\n",
    "\n",
    "def gaxpy_cholesky(A):\n",
    "\n",
    "    n = len(A)\n",
    "    \n",
    "    for j in range(0,n):\n",
    "        \n",
    "        if j > 0:\n",
    "\n",
    "            A[j:n,j] = A[j:n,j] - A[j:n,0:j] @ A[j,0:j].T\n",
    "        \n",
    "        A[j:n,j] = A[j:n,j] / np.sqrt(A[j,j])\n",
    "        \n",
    "    return np.tril(A)\n",
    "\n",
    "A = np.array([[2,-1,-1,0],[-1,1.5,0,-0.5],[-1,0,1.7,-0.2],[0,-0.5,-0.2,1.7]],dtype=float)\n",
    "\n",
    "if A.all() == A.T.all(): print('A é simétrica.')\n",
    "\n",
    "G = gaxpy_cholesky(A)\n",
    "\n",
    "G"
   ]
  },
  {
   "cell_type": "code",
   "execution_count": 31,
   "id": "48f2fda7-fd12-4787-aeb8-95b42c4a1894",
   "metadata": {},
   "outputs": [
    {
     "name": "stdout",
     "output_type": "stream",
     "text": [
      "Solução do problema G*y = b, y = [0.         0.         0.         2.69751659]\n"
     ]
    }
   ],
   "source": [
    "import numpy as np\n",
    "\n",
    "def subs_dir(A):\n",
    "\n",
    "    m, n = A.shape\n",
    "\n",
    "    x = np.zeros(m)\n",
    "\n",
    "    x[0] = A[0,-1] / A[0,0]\n",
    "    \n",
    "    for i in range(1,m):\n",
    "        \n",
    "        soma = 0\n",
    "        \n",
    "        for j in range(0,i+1):\n",
    "            \n",
    "            soma = soma + A[i,j] * x[j]\n",
    "        \n",
    "        x[i] = (A[i,-1] - soma) / A[i,i]\n",
    "\n",
    "    return x\n",
    "\n",
    "b  = np.array([0,0,0,3])\n",
    "\n",
    "Gu = np.column_stack((G, b))\n",
    "\n",
    "y  = subs_dir(Gu)\n",
    "\n",
    "print('Solução do problema G*y = b, y =',y)"
   ]
  }
 ],
 "metadata": {
  "kernelspec": {
   "display_name": "Python 3 (ipykernel)",
   "language": "python",
   "name": "python3"
  },
  "language_info": {
   "codemirror_mode": {
    "name": "ipython",
    "version": 3
   },
   "file_extension": ".py",
   "mimetype": "text/x-python",
   "name": "python",
   "nbconvert_exporter": "python",
   "pygments_lexer": "ipython3",
   "version": "3.10.12"
  }
 },
 "nbformat": 4,
 "nbformat_minor": 5
}
