{
 "cells": [
  {
   "cell_type": "markdown",
   "id": "50f4a71b-deed-4d8d-8e2d-63d2c0ccde0a",
   "metadata": {},
   "source": [
    "<h4>\n",
    "    <b>\n",
    "        Questão 1\n",
    "    </b>\n",
    "</h4>"
   ]
  },
  {
   "cell_type": "code",
   "execution_count": 2,
   "id": "09afb9e0-b52d-48a7-8455-65cfb0c72919",
   "metadata": {},
   "outputs": [
    {
     "name": "stdout",
     "output_type": "stream",
     "text": [
      "(10000, 10001)\n"
     ]
    }
   ],
   "source": [
    "import numpy as np \n",
    "\n",
    "# --- Definições iniciais\n",
    "\n",
    "# Definições do domínio\n",
    "a = 0; b = 10; h = 1/1000\n",
    "\n",
    "# Definições da Equação Diferencial\n",
    "c = 0.0001; d = 10000; u0 = 0; un = np.cos(b)\n",
    "\n",
    "# Definindo o termo fonte:\n",
    "def f(x):\n",
    "    return x**2\n",
    "\n",
    "# --- Inicio do algoritmo\n",
    "\n",
    "# Criando vetor com os pontos de malha\n",
    "vx = np.arange(a,b,h)\n",
    "#vx = np.append(vx,b)\n",
    "\n",
    "# Calculando constantes\n",
    "A =  1/np.square(h) - c/(2*h)\n",
    "B = -2/np.square(h) + d\n",
    "C =  1/np.square(h) + c/(2*h)\n",
    "\n",
    "# Criando matriz de diferenças D\n",
    "m = len(vx); n = m + 1\n",
    "D = np.zeros((m,n))\n",
    "\n",
    "# Construindo a primeira linha da matriz\n",
    "D[0, 0] = B\n",
    "D[0, 1] = C\n",
    "D[0,-1] = f(a) - u0 * A\n",
    "\n",
    "# Construindo linhas intermediárias\n",
    "for i in range(1,m-1):\n",
    "\n",
    "    D[i,i-1:i+2] = np.array([A,B,C])\n",
    "    D[i,-1]      = f(vx[i])\n",
    "\n",
    "# Construindo última linha\n",
    "D[m-1,-3] = A\n",
    "D[m-1,-2] = B\n",
    "D[m-1,-1] = f(b) - un * C\n",
    "\n",
    "print(D.shape)"
   ]
  },
  {
   "cell_type": "code",
   "execution_count": 31,
   "id": "a06b6330-7d89-4478-af27-1df6580c0931",
   "metadata": {},
   "outputs": [],
   "source": [
    "# (a)\n",
    "\n",
    "import numpy as np\n",
    "\n",
    "def piv_parc(A, k):\n",
    "\n",
    "    i = np.argmax(np.abs(A[k:, k]))\n",
    "    \n",
    "    A[[k, i+k], :] = A[[i+k, k], :]\n",
    "\n",
    "    return A\n",
    "\n",
    "def subs_reg(A):\n",
    "\n",
    "    m, n = A.shape\n",
    "\n",
    "    x = np.zeros(m)\n",
    "    \n",
    "    x[m-1] = A[m-1,-1] / A[m-1,-2]\n",
    "\n",
    "    for i in range(m-2,-1,-1):\n",
    "    \n",
    "        soma = 0\n",
    "        \n",
    "        for j in range(i+1,n-1):\n",
    "            \n",
    "            soma = soma + A[i,j] * x[j]\n",
    "        \n",
    "        x[i] = (A[i,-1] - soma) / A[i,i]\n",
    "\n",
    "    return x\n",
    "\n",
    "def gauss(A):\n",
    "    \n",
    "    m   = A.shape[0]\n",
    "    M   = np.zeros_like(A, dtype=float)\n",
    "    \n",
    "\n",
    "    for k in range(0, m - 1):\n",
    "             \n",
    "        A      = piv_parc(A, k) \n",
    "   \n",
    "        if A[k, k] != 0: \n",
    "            for i in range(k + 1, m):\n",
    "                M[i, k] = A[i, k] / A[k, k]  \n",
    "                A[i, :] = A[i, :] - M[i, k] * A[k, :]  \n",
    "\n",
    "    return A\n",
    "\n",
    "D_tri_inf = gauss(D) "
   ]
  },
  {
   "cell_type": "code",
   "execution_count": 32,
   "id": "bdd1dd16-0640-48db-8009-61fdbc24a4e7",
   "metadata": {},
   "outputs": [
    {
     "data": {
      "text/plain": [
       "array([-0.08511615, -0.16938113, -0.25195229, ..., -0.78097844,\n",
       "       -0.80859348, -0.82802262])"
      ]
     },
     "execution_count": 32,
     "metadata": {},
     "output_type": "execute_result"
    }
   ],
   "source": [
    "x_gauss = subs_reg(D_tri_inf)\n",
    "x_gauss"
   ]
  },
  {
   "cell_type": "code",
   "execution_count": 39,
   "id": "c981b697-019c-4d88-ad04-978627e48d15",
   "metadata": {},
   "outputs": [
    {
     "name": "stdout",
     "output_type": "stream",
     "text": [
      "[5000]\n",
      "A solução por gauss com piv parc em x=5 é 0.6109474582417403\n"
     ]
    }
   ],
   "source": [
    "print(np.where(vx==5)[0])\n",
    "print('A solução por gauss com piv parc em x=5 é',x_gauss[5000])"
   ]
  },
  {
   "cell_type": "code",
   "execution_count": 23,
   "id": "e4f85b9b-b31c-46a5-a6d4-454378be24e6",
   "metadata": {},
   "outputs": [
    {
     "name": "stdout",
     "output_type": "stream",
     "text": [
      "6054896.327208288\n",
      "6.05e+06\n"
     ]
    }
   ],
   "source": [
    "k = np.linalg.norm(D[:,:-1])*np.linalg.norm(D_inv)\n",
    "\n",
    "print(k)\n",
    "sci_format = f\"{k:.2e}\"\n",
    "print(sci_format)"
   ]
  },
  {
   "cell_type": "code",
   "execution_count": 4,
   "id": "c6f119dd-e298-49d7-adab-3d310964936b",
   "metadata": {},
   "outputs": [],
   "source": [
    "def lu(A):\n",
    "\n",
    "    n = len(A)\n",
    "    L = np.eye(n,n)\n",
    "    \n",
    "    for k in range(0,n-1):\n",
    "\n",
    "        if A[k,k] == 0:\n",
    "                return [],[]\n",
    "        \n",
    "        for i in range(k+1,n):\n",
    "                    \n",
    "            L[i,k] = A[i,k] / A[k,k]\n",
    "            A[i,:] = A[i,:] - L[i,k] * A[k,:]\n",
    "    \n",
    "    return L, A \n",
    "\n",
    "L, U = lu(D[:,:-1])"
   ]
  },
  {
   "cell_type": "code",
   "execution_count": 3,
   "id": "6ca01726-5d4d-4fb0-a044-3a62564ea031",
   "metadata": {},
   "outputs": [],
   "source": [
    "def subs_reg(A):\n",
    "\n",
    "    m, n = A.shape\n",
    "\n",
    "    x = np.zeros(m)\n",
    "    \n",
    "    x[m-1] = A[m-1,-1] / A[m-1,-2]\n",
    "\n",
    "    for i in range(m-2,-1,-1):\n",
    "    \n",
    "        soma = 0\n",
    "        \n",
    "        for j in range(i+1,n-1):\n",
    "            \n",
    "            soma = soma + A[i,j] * x[j]\n",
    "        \n",
    "        x[i] = (A[i,-1] - soma) / A[i,i]\n",
    "\n",
    "    return x\n",
    "    \n",
    "def subs_dir(A):\n",
    "\n",
    "    m, n = A.shape\n",
    "\n",
    "    x = np.zeros(m)\n",
    "\n",
    "    x[0] = A[0,-1] / A[0,0]\n",
    "    \n",
    "    for i in range(1,m):\n",
    "        \n",
    "        soma = 0\n",
    "        \n",
    "        for j in range(0,i+1):\n",
    "            \n",
    "            soma = soma + A[i,j] * x[j]\n",
    "        \n",
    "        x[i] = (A[i,-1] - soma) / A[i,i]\n",
    "\n",
    "    return x"
   ]
  },
  {
   "cell_type": "code",
   "execution_count": null,
   "id": "8f0c1d35-f081-4d40-8eaf-1db27074577a",
   "metadata": {},
   "outputs": [],
   "source": [
    "#Ly=b\n",
    "yl = subs_dir(np.column_stack((L,D[:,-1])))\n",
    "\n",
    "xl = subs_reg(np.column_stack((U,yl)))\n",
    "\n",
    "print(np.where(vx==5)[0])\n",
    "print('A solução por LU  em x=5 é',xl[5000])"
   ]
  },
  {
   "cell_type": "code",
   "execution_count": 5,
   "id": "b9bb2d6c-3e70-4134-b4bb-cda12e845d70",
   "metadata": {},
   "outputs": [
    {
     "ename": "NameError",
     "evalue": "name 'D_tri_inf' is not defined",
     "output_type": "error",
     "traceback": [
      "\u001b[0;31m---------------------------------------------------------------------------\u001b[0m",
      "\u001b[0;31mNameError\u001b[0m                                 Traceback (most recent call last)",
      "Cell \u001b[0;32mIn[5], line 1\u001b[0m\n\u001b[0;32m----> 1\u001b[0m \u001b[43mD_tri_inf\u001b[49m \n",
      "\u001b[0;31mNameError\u001b[0m: name 'D_tri_inf' is not defined"
     ]
    }
   ],
   "source": [
    "D_tri_inf "
   ]
  }
 ],
 "metadata": {
  "kernelspec": {
   "display_name": "Python 3 (ipykernel)",
   "language": "python",
   "name": "python3"
  },
  "language_info": {
   "codemirror_mode": {
    "name": "ipython",
    "version": 3
   },
   "file_extension": ".py",
   "mimetype": "text/x-python",
   "name": "python",
   "nbconvert_exporter": "python",
   "pygments_lexer": "ipython3",
   "version": "3.10.12"
  }
 },
 "nbformat": 4,
 "nbformat_minor": 5
}
