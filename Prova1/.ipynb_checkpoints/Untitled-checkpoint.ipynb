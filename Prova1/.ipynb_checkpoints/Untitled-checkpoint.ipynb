{
 "cells": [
  {
   "cell_type": "code",
   "execution_count": 1,
   "id": "a2077299-830a-4ec5-bbb9-a05a8140d826",
   "metadata": {},
   "outputs": [
    {
     "ename": "TypeError",
     "evalue": "unsupported operand type(s) for *: 'numpy._ArrayFunctionDispatcher' and 'numpy._ArrayFunctionDispatcher'",
     "output_type": "error",
     "traceback": [
      "\u001b[0;31m---------------------------------------------------------------------------\u001b[0m",
      "\u001b[0;31mTypeError\u001b[0m                                 Traceback (most recent call last)",
      "Cell \u001b[0;32mIn[1], line 47\u001b[0m\n\u001b[1;32m     44\u001b[0m D[m\u001b[38;5;241m-\u001b[39m\u001b[38;5;241m1\u001b[39m,\u001b[38;5;241m-\u001b[39m\u001b[38;5;241m1\u001b[39m] \u001b[38;5;241m=\u001b[39m f(b) \u001b[38;5;241m-\u001b[39m un \u001b[38;5;241m*\u001b[39m C\n\u001b[1;32m     46\u001b[0m \u001b[38;5;66;03m# Calculando o número de condicionamento da matriz tridiagonal\u001b[39;00m\n\u001b[0;32m---> 47\u001b[0m k \u001b[38;5;241m=\u001b[39m np\u001b[38;5;241m.\u001b[39mlinalg\u001b[38;5;241m.\u001b[39mnorm(D[:,:\u001b[38;5;241m-\u001b[39m\u001b[38;5;241m1\u001b[39m])\u001b[38;5;241m*\u001b[39m\u001b[43mnp\u001b[49m\u001b[38;5;241;43m.\u001b[39;49m\u001b[43mlinalg\u001b[49m\u001b[38;5;241;43m.\u001b[39;49m\u001b[43mnorm\u001b[49m\u001b[43m(\u001b[49m\u001b[43mnp\u001b[49m\u001b[38;5;241;43m.\u001b[39;49m\u001b[43mlinalg\u001b[49m\u001b[38;5;241;43m.\u001b[39;49m\u001b[43minv\u001b[49m\u001b[43m)\u001b[49m\n\u001b[1;32m     49\u001b[0m \u001b[38;5;28mprint\u001b[39m(k)\n\u001b[1;32m     50\u001b[0m sci_format \u001b[38;5;241m=\u001b[39m \u001b[38;5;124mf\u001b[39m\u001b[38;5;124m\"\u001b[39m\u001b[38;5;132;01m{\u001b[39;00mk\u001b[38;5;132;01m:\u001b[39;00m\u001b[38;5;124m.2e\u001b[39m\u001b[38;5;132;01m}\u001b[39;00m\u001b[38;5;124m\"\u001b[39m\n",
      "File \u001b[0;32m~/.local/lib/python3.10/site-packages/numpy/linalg/linalg.py:2552\u001b[0m, in \u001b[0;36mnorm\u001b[0;34m(x, ord, axis, keepdims)\u001b[0m\n\u001b[1;32m   2550\u001b[0m     sqnorm \u001b[38;5;241m=\u001b[39m x_real\u001b[38;5;241m.\u001b[39mdot(x_real) \u001b[38;5;241m+\u001b[39m x_imag\u001b[38;5;241m.\u001b[39mdot(x_imag)\n\u001b[1;32m   2551\u001b[0m \u001b[38;5;28;01melse\u001b[39;00m:\n\u001b[0;32m-> 2552\u001b[0m     sqnorm \u001b[38;5;241m=\u001b[39m \u001b[43mx\u001b[49m\u001b[38;5;241;43m.\u001b[39;49m\u001b[43mdot\u001b[49m\u001b[43m(\u001b[49m\u001b[43mx\u001b[49m\u001b[43m)\u001b[49m\n\u001b[1;32m   2553\u001b[0m ret \u001b[38;5;241m=\u001b[39m sqrt(sqnorm)\n\u001b[1;32m   2554\u001b[0m \u001b[38;5;28;01mif\u001b[39;00m keepdims:\n",
      "\u001b[0;31mTypeError\u001b[0m: unsupported operand type(s) for *: 'numpy._ArrayFunctionDispatcher' and 'numpy._ArrayFunctionDispatcher'"
     ]
    }
   ],
   "source": [
    "import numpy as np \n",
    "\n",
    "# --- Definições iniciais\n",
    "\n",
    "# Definições do domínio\n",
    "a = 0; b = 10; h = 1/1000\n",
    "\n",
    "# Definições da Equação Diferencial\n",
    "c = 0.0001; d = 10000; u0 = 0; un = np.cos(b)\n",
    "\n",
    "# Definindo o termo fonte:\n",
    "def f(x):\n",
    "    return x**2\n",
    "\n",
    "# --- Inicio do algoritmo\n",
    "\n",
    "# Criando vetor com os pontos de malha\n",
    "vx = np.arange(a,b,h)\n",
    "#vx = np.append(vx,b)\n",
    "\n",
    "# Calculando constantes\n",
    "A =  1/np.square(h) - c/(2*h)\n",
    "B = -2/np.square(h) + d\n",
    "C =  1/np.square(h) + c/(2*h)\n",
    "\n",
    "# Criando matriz de diferenças D\n",
    "m = len(vx); n = m + 1\n",
    "D = np.zeros((m,n))\n",
    "\n",
    "# Construindo a primeira linha da matriz\n",
    "D[0, 0] = B\n",
    "D[0, 1] = C\n",
    "D[0,-1] = f(a) - u0 * A\n",
    "\n",
    "# Construindo linhas intermediárias\n",
    "for i in range(1,m-1):\n",
    "\n",
    "    D[i,i-1:i+2] = np.array([A,B,C])\n",
    "    D[i,-1]      = f(vx[i])\n",
    "\n",
    "# Construindo última linha\n",
    "D[m-1,-3] = A\n",
    "D[m-1,-2] = B\n",
    "D[m-1,-1] = f(b) - un * C\n",
    "\n",
    "# Calculando o número de condicionamento da matriz tridiagonal\n",
    "k = np.linalg.norm(D[:,:-1])*np.linalg.norm(np.linalg.inv(D[:,:-1]))\n",
    "\n",
    "print(k)\n",
    "sci_format = f\"{k:.2e}\"\n",
    "print(sci_format)"
   ]
  }
 ],
 "metadata": {
  "kernelspec": {
   "display_name": "Python 3 (ipykernel)",
   "language": "python",
   "name": "python3"
  },
  "language_info": {
   "codemirror_mode": {
    "name": "ipython",
    "version": 3
   },
   "file_extension": ".py",
   "mimetype": "text/x-python",
   "name": "python",
   "nbconvert_exporter": "python",
   "pygments_lexer": "ipython3",
   "version": "3.10.12"
  }
 },
 "nbformat": 4,
 "nbformat_minor": 5
}
