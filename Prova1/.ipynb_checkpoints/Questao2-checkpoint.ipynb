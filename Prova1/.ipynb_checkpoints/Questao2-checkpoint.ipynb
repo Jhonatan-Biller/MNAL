{
 "cells": [
  {
   "cell_type": "code",
   "execution_count": 34,
   "id": "bf1d6c58-1243-4698-847e-c11416c56ba5",
   "metadata": {},
   "outputs": [
    {
     "name": "stdout",
     "output_type": "stream",
     "text": [
      "Convergiu em 7 iterações.\n",
      "Solução aproximada: [2.22424483 0.28388497 1.58370761]\n",
      "F(x): [0. 0. 0.]\n"
     ]
    }
   ],
   "source": [
    "import numpy as np\n",
    "import sympy as sp\n",
    "\n",
    "# Define as variáveis simbólicas\n",
    "x, y, z = sp.symbols('x y z')\n",
    "\n",
    "# Define as funções do sistema\n",
    "f1 = x**2 + y**2 + z**3 - 9\n",
    "f2 = x * y * z - 1\n",
    "f3 = x + y - z**2\n",
    "\n",
    "# Define o vetor de funções\n",
    "F = sp.Matrix([f1, f2, f3])\n",
    "\n",
    "# Calcula a Jacobiana\n",
    "J = F.jacobian([x, y, z])\n",
    "\n",
    "#Chute inicial\n",
    "xi = np.array([2.0, 1.0, 1.0])\n",
    "\n",
    "# Tolerância\n",
    "tol = 10e-8\n",
    "\n",
    "# Máximo de iterações\n",
    "max_iter = 100\n",
    "\n",
    "for i in range(max_iter):\n",
    "    # Avalia F(x) no ponto atual xi\n",
    "    Fx = np.array([f.subs({x: xi[0], y: xi[1], z: xi[2]}).evalf() for f in F], dtype=float)\n",
    "    \n",
    "    # Avalia J(x) no ponto atual xi\n",
    "    Jx = np.array(J.subs({x: xi[0], y: xi[1], z: xi[2]}).evalf(), dtype=float)\n",
    "        \n",
    "    # Resolve o sistema linear J(x) * Δx = -F(x)\n",
    "    delta_x = np.linalg.solve(Jx, -Fx)\n",
    "    \n",
    "    xi = xi + delta_x\n",
    "        \n",
    "    # Critério de parada\n",
    "    if np.linalg.norm(delta_x) < tol:\n",
    "        print(f\"Convergiu em {i+1} iterações.\")\n",
    "        break\n",
    "else:\n",
    "    print(\"Não convergiu dentro do número máximo de iterações.\")\n",
    "\n",
    "print(\"Solução aproximada:\", xi)\n",
    "\n",
    "# Vejamos que [2.22424483 0.28388497 1.58370761] é uma boa aproximação para a solução do sistema\n",
    "print('F(x):',np.array([xi[0]**2+xi[1]**2+xi[2]**3-9,xi[0]*xi[1]*xi[2]-1,xi[0]+xi[1]-xi[2]**2]))"
   ]
  }
 ],
 "metadata": {
  "kernelspec": {
   "display_name": "Python 3 (ipykernel)",
   "language": "python",
   "name": "python3"
  },
  "language_info": {
   "codemirror_mode": {
    "name": "ipython",
    "version": 3
   },
   "file_extension": ".py",
   "mimetype": "text/x-python",
   "name": "python",
   "nbconvert_exporter": "python",
   "pygments_lexer": "ipython3",
   "version": "3.10.12"
  }
 },
 "nbformat": 4,
 "nbformat_minor": 5
}
